{
 "cells": [
  {
   "cell_type": "markdown",
   "metadata": {},
   "source": [
    "# PSTAT134 Assignment\n",
    "## Andrew Zhang"
   ]
  },
  {
   "cell_type": "markdown",
   "metadata": {},
   "source": [
    "### Data Preparation\n",
    "Creating the pickle file allpatterns2016-17.pkl"
   ]
  },
  {
   "cell_type": "code",
   "execution_count": null,
   "metadata": {},
   "outputs": [],
   "source": [
    "import pickle\n",
    "import pandas as pd\n",
    "import numpy as np\n",
    "import sklearn.decomposition as skld\n",
    "import matplotlib.pyplot as plt\n",
    "import seaborn as sns\n",
    "\n",
    "import helper_basketball as h\n",
    "import imp\n",
    "imp.reload(h);"
   ]
  },
  {
   "cell_type": "code",
   "execution_count": null,
   "metadata": {},
   "outputs": [],
   "source": [
    "allshots = pickle.load(open('allshots2016-17.pkl', 'rb'))\n",
    "\n",
    "allmade = allshots"
   ]
  },
  {
   "cell_type": "code",
   "execution_count": null,
   "metadata": {},
   "outputs": [],
   "source": [
    "## players info\n",
    "player_ids = allmade.PlayerID.unique()\n",
    "num_players = player_ids.size\n",
    " \n",
    "## bin edge definitions in inches\n",
    "xedges = (np.linspace(start=-25, stop=25, num=151, dtype=np.float)) * 12\n",
    "yedges = (np.linspace(start= -4, stop=31, num=106, dtype=np.float)) * 12\n",
    "\n",
    "## number of bins is one less than number of edges\n",
    "nx = xedges.size - 1\n",
    "ny = yedges.size - 1\n",
    "\n",
    "## 2d histogram containers for binned counts and smoothed binned counts\n",
    "all_counts = {}\n",
    "all_smooth = {}\n",
    "\n",
    "## data matrix: players (row) by vectorized 2-d court locations (column)\n",
    "for i, one in enumerate(allmade.groupby('PlayerID')):\n",
    "    \n",
    "    ## what does this line do?\n",
    "    pid, pdf = one\n",
    "    \n",
    "    ## h.bin_shots: what is this function doing?\n",
    "    tmp1, xedges, yedges = h.bin_shots(pdf, bin_edges=(xedges, yedges), density=True, sigma=2)\n",
    "    tmp2, xedges, yedges = h.bin_shots(pdf, bin_edges=(xedges, yedges), density=False)\n",
    "    \n",
    "    ## vectorize and store into dictionary\n",
    "    all_smooth[pid] = tmp1.reshape(-1)\n",
    "    all_counts[pid] = tmp2.reshape(-1)"
   ]
  },
  {
   "cell_type": "code",
   "execution_count": null,
   "metadata": {},
   "outputs": [],
   "source": [
    "X = np.stack(all_smooth.values()).T"
   ]
  },
  {
   "cell_type": "code",
   "execution_count": null,
   "metadata": {},
   "outputs": [],
   "source": [
    "pickle.dump(X, open('allpatterns2016-17.pkl', 'wb'))"
   ]
  },
  {
   "cell_type": "markdown",
   "metadata": {},
   "source": [
    "### Import Data"
   ]
  },
  {
   "cell_type": "code",
   "execution_count": null,
   "metadata": {},
   "outputs": [],
   "source": [
    "X = pickle.load(open('allpatterns2016-17.pkl', 'rb'))"
   ]
  },
  {
   "cell_type": "code",
   "execution_count": null,
   "metadata": {},
   "outputs": [],
   "source": [
    "%%bash\n",
    "cat helper_basketball.py"
   ]
  },
  {
   "cell_type": "code",
   "execution_count": null,
   "metadata": {},
   "outputs": [],
   "source": [
    "## get all 2016-17 teams\n",
    "params = {'LeagueID':'00','Season': '2016-17'}\n",
    "teams = h.get_nba_data('commonTeamYears', params).set_index('TEAM_ID')\n",
    "allteams = teams.loc[teams.MAX_YEAR=='2017'].index.values\n",
    "\n",
    "## get all 2016-17 players\n",
    "params = {'LeagueID':'00', 'Season': '2016-17', 'IsOnlyCurrentSeason': '0'}\n",
    "players = h.get_nba_data('commonallplayers', params).set_index('PERSON_ID')\n",
    "allplyrs = players.loc[players.TEAM_ID.isin(allteams)].index.values"
   ]
  },
  {
   "cell_type": "markdown",
   "metadata": {},
   "source": [
    "## Problem 1"
   ]
  },
  {
   "cell_type": "markdown",
   "metadata": {},
   "source": [
    "`n_components` = 10"
   ]
  },
  {
   "cell_type": "code",
   "execution_count": null,
   "metadata": {},
   "outputs": [],
   "source": [
    "model_10 = skld.NMF(n_components=10, init='nndsvda', max_iter=500, random_state=0)\n",
    "W_10 = model_10.fit_transform(X)\n",
    "H_10 = model_10.components_"
   ]
  },
  {
   "cell_type": "code",
   "execution_count": null,
   "metadata": {},
   "outputs": [],
   "source": [
    "xedges = (np.linspace(start=-25, stop=25, num=151, dtype=np.float)) * 12\n",
    "yedges = (np.linspace(start= -4, stop=31, num=106, dtype=np.float)) * 12"
   ]
  },
  {
   "cell_type": "code",
   "execution_count": null,
   "metadata": {},
   "outputs": [],
   "source": [
    "fig, ax = plt.subplots(5, 2, figsize=(20,40))\n",
    "\n",
    "for i, axi in enumerate(ax.flatten()):\n",
    "    h.plot_shotchart(W_10[:,i], xedges, yedges, ax=axi)\n",
    "    axi.set_title('NMF component ' + str(i))"
   ]
  },
  {
   "cell_type": "markdown",
   "metadata": {},
   "source": [
    "`n_components` = 7"
   ]
  },
  {
   "cell_type": "code",
   "execution_count": null,
   "metadata": {},
   "outputs": [],
   "source": [
    "model_7 = skld.NMF(n_components=7, init='nndsvda', max_iter=500, random_state=0)\n",
    "W_7 = model_7.fit_transform(X)\n",
    "H_7 = model_7.components_"
   ]
  },
  {
   "cell_type": "code",
   "execution_count": null,
   "metadata": {},
   "outputs": [],
   "source": [
    "fig, ax = plt.subplots(7, 1, figsize=(20,40))\n",
    "\n",
    "for i, axi in enumerate(ax.flatten()):\n",
    "    h.plot_shotchart(W_7[:,i], xedges, yedges, ax=axi)\n",
    "    axi.set_title('NMF component ' + str(i))"
   ]
  },
  {
   "cell_type": "markdown",
   "metadata": {},
   "source": [
    "`n_components` = 6"
   ]
  },
  {
   "cell_type": "code",
   "execution_count": null,
   "metadata": {},
   "outputs": [],
   "source": [
    "model_6 = skld.NMF(n_components=6, init='nndsvda', max_iter=500, random_state=0)\n",
    "W_6 = model_6.fit_transform(X)\n",
    "H_6 = model_6.components_"
   ]
  },
  {
   "cell_type": "code",
   "execution_count": null,
   "metadata": {},
   "outputs": [],
   "source": [
    "fig, ax = plt.subplots(3, 2, figsize=(20,40))\n",
    "\n",
    "for i, axi in enumerate(ax.flatten()):\n",
    "    h.plot_shotchart(W_6[:,i], xedges, yedges, ax=axi)\n",
    "    axi.set_title('NMF component ' + str(i))"
   ]
  },
  {
   "cell_type": "markdown",
   "metadata": {},
   "source": [
    "We can see that as we lower the `r`, the visualizations of shot location become more and more generalized as demonstrated by coefficient `6` when `r`=7. If we look at when `r`=6, we can see that the visualizations do not show the heatmap for mid range shots. Thus, we can assume that `r` is too small when `r`=6."
   ]
  },
  {
   "cell_type": "markdown",
   "metadata": {},
   "source": [
    "`n_components` = 15"
   ]
  },
  {
   "cell_type": "code",
   "execution_count": null,
   "metadata": {},
   "outputs": [],
   "source": [
    "model_15 = skld.NMF(n_components=15, init='nndsvda', max_iter=500, random_state=0)\n",
    "W_15 = model_15.fit_transform(X)\n",
    "H_15 = model_15.components_"
   ]
  },
  {
   "cell_type": "code",
   "execution_count": null,
   "metadata": {},
   "outputs": [],
   "source": [
    "fig, ax = plt.subplots(5, 3, figsize=(20,40))\n",
    "\n",
    "for i, axi in enumerate(ax.flatten()):\n",
    "    h.plot_shotchart(W_15[:,i], xedges, yedges, ax=axi)\n",
    "    axi.set_title('NMF component ' + str(i))"
   ]
  },
  {
   "cell_type": "markdown",
   "metadata": {},
   "source": [
    "After testing when n_components are greater than 10, when n_components=15, we can see repeating bases for corner three pointers and shots left of the rim. Therefore, we can assume that r is too large when it equals 15."
   ]
  },
  {
   "cell_type": "markdown",
   "metadata": {},
   "source": [
    "## Problem 2"
   ]
  },
  {
   "cell_type": "code",
   "execution_count": null,
   "metadata": {},
   "outputs": [],
   "source": [
    "#Create a list of players to create correlation matrix\n",
    "playerslist = 'Carmelo Anthony|Tyson Chandler|Paul George|Tristan Thompson|LaMarcus Aldridge|LeBron James|Kawhi Leonard|Rajon Rondo'\n",
    "playerslist_ids = players[players.DISPLAY_FIRST_LAST.str.contains(playerslist)].loc[player_ids].dropna()"
   ]
  },
  {
   "cell_type": "code",
   "execution_count": null,
   "metadata": {},
   "outputs": [],
   "source": [
    "playersHd = pd.DataFrame(H_10, columns=all_smooth.keys())\n",
    "players_coeff = playersHd.loc[:,playerslist_ids.index.values]\n",
    "players_coeff.columns = playerslist_ids.DISPLAY_FIRST_LAST"
   ]
  },
  {
   "cell_type": "code",
   "execution_count": null,
   "metadata": {},
   "outputs": [],
   "source": [
    "players_coeff /= players_coeff.sum(0)\n",
    "players_coeff.T"
   ]
  },
  {
   "cell_type": "code",
   "execution_count": null,
   "metadata": {},
   "outputs": [],
   "source": [
    "player_corr = players_coeff.corr()\n",
    "player_corr"
   ]
  },
  {
   "cell_type": "code",
   "execution_count": null,
   "metadata": {},
   "outputs": [],
   "source": [
    "sns.heatmap(player_corr)"
   ]
  },
  {
   "cell_type": "markdown",
   "metadata": {},
   "source": [
    "#### Dimensions of R\n",
    "Depending on the number of players you want to compare, the dimensions of the matrix `R` will be `n`x`n`. For example, if we are comparing LeBron James and Stephen Curry, we will get a matrix with dimension 2x2. If we are comparing Tristan Thompson, Brook Lopez, and Al Horford, we will get a matrix of dimension 3x3."
   ]
  },
  {
   "cell_type": "markdown",
   "metadata": {},
   "source": [
    "#### Player Correlation\n",
    "From the correlation plot, we can see that Tristan Thompson and LeBron James have a strong correlation while Paul George and Rajon Rondo have a negative correlation. We can plot their shot selection below."
   ]
  },
  {
   "cell_type": "code",
   "execution_count": null,
   "metadata": {},
   "outputs": [],
   "source": [
    "corrlist = 'Paul George|Tristan Thompson|LeBron James|Rajon Rondo'\n",
    "corrlist_ids = players[players.DISPLAY_FIRST_LAST.str.contains(corrlist)].loc[player_ids].dropna()"
   ]
  },
  {
   "cell_type": "code",
   "execution_count": null,
   "metadata": {},
   "outputs": [],
   "source": [
    "corrHd = pd.DataFrame(H_10, columns=all_smooth.keys())\n",
    "corr_coeff = corrHd.loc[:,corrlist_ids.index.values]\n",
    "corr_coeff.columns = corrlist_ids.DISPLAY_FIRST_LAST"
   ]
  },
  {
   "cell_type": "code",
   "execution_count": null,
   "metadata": {},
   "outputs": [],
   "source": [
    "corr_coeff /= corr_coeff.sum(0)\n",
    "corr_coeff.T"
   ]
  },
  {
   "cell_type": "code",
   "execution_count": null,
   "metadata": {},
   "outputs": [],
   "source": [
    "#Plot positive correlation shooting pattern\n",
    "coeff_range = range(0,10)\n",
    "plt.plot(coeff_range, corr_coeff.T.iloc[1,:])\n",
    "plt.plot(coeff_range, corr_coeff.T.iloc[3,:])\n",
    "plt.legend()\n",
    "plt.title('James vs. Thompson Shooting Patterns')\n",
    "plt.show()"
   ]
  },
  {
   "cell_type": "code",
   "execution_count": null,
   "metadata": {},
   "outputs": [],
   "source": [
    "#Plot negative correlation shooting pattern\n",
    "coeff_range = range(0,10)\n",
    "plt.plot(coeff_range, corr_coeff.T.iloc[0,:])\n",
    "plt.plot(coeff_range, corr_coeff.T.iloc[2,:])\n",
    "plt.legend()\n",
    "plt.title('George vs. Rondo Shooting Patterns')\n",
    "plt.show()"
   ]
  },
  {
   "cell_type": "code",
   "execution_count": null,
   "metadata": {},
   "outputs": [],
   "source": [
    "corr_corr = corr_coeff.corr()\n",
    "sns.heatmap(corr_corr)"
   ]
  },
  {
   "cell_type": "markdown",
   "metadata": {},
   "source": [
    "After plotting the shooting patterns, we can see an overall similarity in terms of the shooting pattern for James and Thompson. This is expected as they have a positive correlation in their shooting. However, we can see a significant difference in the plots of George and Rondo. This also makes sense since they display a negative correlation. "
   ]
  },
  {
   "cell_type": "markdown",
   "metadata": {},
   "source": [
    "## Problem 3"
   ]
  },
  {
   "cell_type": "markdown",
   "metadata": {},
   "source": [
    "If we look at the visualized bases, we can see the location of the shots for each of the coefficients. For example, `0` represents shots immediately around the hoop, `1` represents shots on the wings of the three point line, and `7` represents mid range shots. From this, we can see the coefficients may represent shots made or attempted from these regions. For instance, when we look at the coefficients scaled to 1, we see Tyson Chandler yields values in coefficents `0`, `2`, `3`, and `6`, potentially signaling he shoots shots close to the rim. However, if we look at Stephen Curry, he yields values in all coefficient categories, particularly in coefficients `1`, `8`. Depending on the coefficients, we can assume that if the player shoots most of their shots in or around the rim, that they may play a center or power forward position. If they shoot from all over the court, they may play a forward position or guard position depending on their emphasis on three point shots. Let us look at the correlation plots for a select number of bigs and guards."
   ]
  },
  {
   "cell_type": "code",
   "execution_count": null,
   "metadata": {},
   "outputs": [],
   "source": [
    "#select bigs \n",
    "bigs = 'Brook Lopez|Tyson Chandler|DeAndre Jordan|Tristan Thompson|LaMarcus Aldridge|Anthony Davis|Al Horford|Dwight Howard|Andre Drummond'\n",
    "bigsids = players[players.DISPLAY_FIRST_LAST.str.contains(bigs)].loc[player_ids].dropna()"
   ]
  },
  {
   "cell_type": "code",
   "execution_count": null,
   "metadata": {},
   "outputs": [],
   "source": [
    "bigHd = pd.DataFrame(H_10, columns=all_smooth.keys())\n",
    "bigs_coeff = bigHd.loc[:,bigsids.index.values]\n",
    "bigs_coeff.columns = bigsids.DISPLAY_FIRST_LAST\n",
    "bigs_coeff.T"
   ]
  },
  {
   "cell_type": "code",
   "execution_count": null,
   "metadata": {},
   "outputs": [],
   "source": [
    "bigs_coeff /= bigs_coeff.sum(0)\n",
    "bigs_coeff.T"
   ]
  },
  {
   "cell_type": "code",
   "execution_count": null,
   "metadata": {},
   "outputs": [],
   "source": [
    "bigs_corr = bigs_coeff.corr()\n",
    "sns.heatmap(bigs_corr)"
   ]
  },
  {
   "cell_type": "code",
   "execution_count": null,
   "metadata": {},
   "outputs": [],
   "source": [
    "#select guards\n",
    "guards = 'Stephen Curry|Kyrie Irving|Chris Paul|Kemba Walker|James Harden|Russell Westbrook|Damien Lillard|Dwyane Wade'\n",
    "guardsids = players[players.DISPLAY_FIRST_LAST.str.contains(guards)].loc[player_ids].dropna()"
   ]
  },
  {
   "cell_type": "code",
   "execution_count": null,
   "metadata": {},
   "outputs": [],
   "source": [
    "guardHd = pd.DataFrame(H_10, columns=all_smooth.keys())\n",
    "guards_coeff = guardHd.loc[:,guardsids.index.values]\n",
    "guards_coeff.columns = guardsids.DISPLAY_FIRST_LAST\n",
    "guards_coeff.T"
   ]
  },
  {
   "cell_type": "code",
   "execution_count": null,
   "metadata": {},
   "outputs": [],
   "source": [
    "guards_coeff /= guards_coeff.sum(0)\n",
    "guards_coeff.T"
   ]
  },
  {
   "cell_type": "code",
   "execution_count": null,
   "metadata": {},
   "outputs": [],
   "source": [
    "guards_corr = guards_coeff.corr()\n",
    "sns.heatmap(guards_corr)"
   ]
  },
  {
   "cell_type": "markdown",
   "metadata": {},
   "source": [
    "We can see similarity amongst the guards and bigs as displayed by the correlation plots for each of the respective groups."
   ]
  },
  {
   "cell_type": "markdown",
   "metadata": {},
   "source": [
    "## Problem 4"
   ]
  },
  {
   "cell_type": "markdown",
   "metadata": {},
   "source": [
    "Many teams have issues with players being too one dimensional or not expanding their game to other important aspects. Although this is solely limited to shot patterns, given this data, it is possible to help players work on improving their shot selection. For example, LeBron James is overall, the most well rounded player as he is able to shoot three points, two pointers, and score in the paint as he pleases. This would help his teammates get open as opposing defenders have a difficult time covering all options. On the other hand, players like Rajon Rondo, who is a guard not known for his jumpshooting, are easier for defenders to guard as they can assume he will try to shoot a shot close to the rim. This makes it harder to teammates to find open opportunities as Rondo does not have as much of a threat on the court as James does. \n",
    "\n",
    "However, this information is only related to shot patterns, so it cannot account for other factors. Although James creates more of an offensive threat than Rondo in terms of his shot selection, Rondo provides a huge threat on the floor through his ability to pass the ball and find openings in the defense. Another important question to address would be offensive patterns. Will a player be more likely to shoot the ball, pass to a teammate, or turn the ball over?"
   ]
  },
  {
   "cell_type": "code",
   "execution_count": null,
   "metadata": {},
   "outputs": [],
   "source": []
  }
 ],
 "metadata": {
  "language_info": {
   "name": "python",
   "pygments_lexer": "ipython3"
  }
 },
 "nbformat": 4,
 "nbformat_minor": 2
}
