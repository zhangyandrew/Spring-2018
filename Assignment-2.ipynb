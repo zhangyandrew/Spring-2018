{
 "cells": [
  {
   "cell_type": "markdown",
   "metadata": {},
   "source": [
    "# Assignment 2\n",
    "\n",
    "__Due date__: April 25, 2018 at 10 pm\n",
    "__Submission__: IPython notebook to GauchoSpace\n",
    "\n",
    "We have been building up to creating components for a dashboard app in Jupyter notebook:\n",
    "\n",
    "- Data downloading function: `get_nba_data()` in a `03-Data-collection-and-manipulation.ipynb`. \n",
    "- Accessing pandas data frame and creating dictionary structures in `04-Pandas-Data-Frame.ipynb` and `05-Data-Frame-and-Visualization.ipynb`.\n",
    "- Creating widgets for interactivity: `05-Data-Frame-and-Visualization.ipynb`.\n",
    "- Plotting visualizations with Matplotlib and Seaborn: `05-Data-Frame-and-Visualization.ipynb`.\n",
    "\n",
    "We can put these components together to create an interactive dashboard for creating something similar to the R package: https://github.com/toddwschneider/ballr\n",
    "\n",
    "Your assignment is to create an interactive dashboard.\n",
    "\n",
    "It doesn't have to be exactly the same as the package or what I have proposed. If you would like to create another visualization, that would be great as well. I will refer to __default option__ as continuing to do what we started in class: dashboard of shotchart similar to what [BallR package](https://github.com/toddwschneider/ballr) does. I will refer to __open-ended option__ as creating a dashboard of your choice.\n",
    "\n",
    "Below, I specify some necessary components to your dashboard."
   ]
  },
  {
   "cell_type": "markdown",
   "metadata": {},
   "source": [
    "## Problem 1: Data Download\n",
    "\n",
    "__Default option__: you can use the `get_nba_data()` function. No additional work is needed.\n",
    "\n",
    "__Open-ended option__: you can choose to create a different dashboard. \n",
    "\n",
    "If you are familiar with http://stats.nba.com/, some stats pages will directly tell you how the data can be retrieved. For example, the data needed for [Tracking Shots Dashboard](http://stats.nba.com/player/201935/shots-dash/) comes from [this URL](http://stats.nba.com/stats/playerdashptshots?DateFrom=&DateTo=&GameSegment=&LastNGames=0&LeagueID=00&Location=&Month=0&OpponentTeamID=0&Outcome=&PerMode=PerGame&Period=0&PlayerID=201935&Season=2017-18&SeasonSegment=&SeasonType=Playoffs&TeamID=0&VsConference=&VsDivision=). This link can be found under Tools > Developer tools menu (Control-Shift-I) if you are using [Google Chrome](https://www.google.com/chrome/). Once you open Developer tools, you need to reload the page (for F5). Then, go to `Networks` menu under Developer tools pane. Type into the `Filter` text input box, type `stats/`. This will find (if any) GET URL links that we can use. The URL corresponding to the [Tracking Shots Dashboard](http://stats.nba.com/player/201935/shots-dash/) is [here](http://stats.nba.com/stats/playerdashptshots?DateFrom=&DateTo=&GameSegment=&LastNGames=0&LeagueID=00&Location=&Month=0&OpponentTeamID=0&Outcome=&PerMode=PerGame&Period=0&PlayerID=201935&Season=2017-18&SeasonSegment=&SeasonType=Playoffs&TeamID=0&VsConference=&VsDivision=). If you are feeling adventurous, you can use another data to create your dashboard with.\n",
    "\n",
    "There are other interesting data sources: https://schoolofdata.org/2013/11/18/web-apis-for-non-programmers/ (note them some may be out of date since this is from 5 years ago!). If you would like to pursue a completely different data source, you are encouraged to. Keep in mind you want to create some dashboard to automatically update information. I can help you to determine wheter a site can be reverse engineered relatively easily if you choose to pursue this option.\n",
    "\n",
    "Determine the set of parameters for creating an appropriate `param` dictionary. Test if your data download function works as intended."
   ]
  },
  {
   "cell_type": "markdown",
   "metadata": {},
   "source": [
    "## Problem 2: Creating interactive widgets\n",
    "\n",
    "__Default option__: create at least one more widgets (three total) for specifying data downloads. For example, you can change year, opposing team, etc.\n",
    "\n",
    "__Open-ended option__: create at least one widget for specifying data downloads.\n",
    "\n",
    "In this problem, you will simply create widget(s). Next section will be showing how you can combine them."
   ]
  },
  {
   "cell_type": "markdown",
   "metadata": {},
   "source": [
    "## Problem 3: Downloading data with changing widget states\n",
    "\n",
    "__Both options__: Add event handlers (`observe`, `on_click`, etc) to be called when some widget changes to another state. Make sure this works as expected."
   ]
  },
  {
   "cell_type": "markdown",
   "metadata": {},
   "source": [
    "## Problem 4: Data transformation and visualization\n",
    "\n",
    "__Default option__: create at least two data transformation using split-apply-combine approach. Some ideas are, \n",
    "\n",
    "- What is the shooting average against different teams? You would split based on opposing team, compute the average, and plot a bar chart. \n",
    "\n",
    "- What is the shooting average over different periods per game? You would split based on periods and game, then plot the changing shooting average over periods. Is this helpful? Why? Why not?\n",
    "\n",
    "- Any other setting in which you would need to split-apply-combine to calculate a summary statistic.\n",
    "\n",
    "- A setting of your choosing\n",
    "\n",
    "Plot your result\n",
    "\n",
    "__Open-ended option__: create at least one data transformation using split-apply-combine approach.\n",
    "\n",
    "Plot your result"
   ]
  },
  {
   "cell_type": "markdown",
   "metadata": {},
   "source": [
    "## Notes\n",
    "\n",
    "- Open-ended option will be a lot more work; however, you can use this towards building up your final projects if you so choose. \n",
    "\n",
    "- Label figures, and explain your steps. PSTAT 234 students' work are expected to be more refined.\n",
    "\n",
    "- Exceptional assignments will receive extra credit."
   ]
  }
 ],
 "metadata": {
  "language_info": {
   "name": "python",
   "pygments_lexer": "ipython3"
  }
 },
 "nbformat": 4,
 "nbformat_minor": 2
}
