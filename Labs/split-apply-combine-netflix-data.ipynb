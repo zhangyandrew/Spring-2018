{
 "cells": [
  {
   "cell_type": "markdown",
   "metadata": {},
   "source": [
    "# Lab3: split-apply-combine in pandas & data visualization"
   ]
  },
  {
   "cell_type": "markdown",
   "metadata": {},
   "source": [
    "Question:\n",
    "\n",
    "Do Netflix subscribers prefer older or newer movies? Are there other factors that affect this preference such as *rating*?\n",
    "\n",
    "Task:\n",
    "\n",
    "- Split the dataset into groups, one for each year, and then to compute one or several summary statistics.\n",
    "- See whether this statistic increases over the years.\n",
    "\n",
    "\n",
    "Source: https://github.com/datacamp/community-groupby"
   ]
  },
  {
   "cell_type": "markdown",
   "metadata": {},
   "source": [
    "## Data Exploration with pandas"
   ]
  },
  {
   "cell_type": "markdown",
   "metadata": {},
   "source": [
    "### Import your data"
   ]
  },
  {
   "cell_type": "code",
   "execution_count": null,
   "metadata": {},
   "outputs": [],
   "source": [
    "# Import packages and set visualization style\n",
    "import pandas as pd\n",
    "import matplotlib.pyplot as plt\n",
    "import seaborn as sns\n",
    "import numpy as np\n",
    "sns.set()\n",
    "%matplotlib inline"
   ]
  },
  {
   "cell_type": "code",
   "execution_count": null,
   "metadata": {},
   "outputs": [],
   "source": [
    "# Import data and check out head of DataFrame\n",
    "df = pd.read_csv('netflix.csv')\n",
    "df.tail()"
   ]
  },
  {
   "cell_type": "markdown",
   "metadata": {},
   "source": [
    "### Data Exploratory Analysis"
   ]
  },
  {
   "cell_type": "markdown",
   "metadata": {},
   "source": [
    "Applying `pandas` DataFrame `.info()` below shows that you have 1000 rows and 7 columns of data, but also that the column of interest, `user_rating_score`, has only 605 non-null values. This means that there are 395 missing values:"
   ]
  },
  {
   "cell_type": "code",
   "execution_count": null,
   "metadata": {},
   "outputs": [],
   "source": [
    "# Check out info of DataFrame\n",
    "df.info()"
   ]
  },
  {
   "cell_type": "markdown",
   "metadata": {},
   "source": [
    "### Dispersion Matrix plot"
   ]
  },
  {
   "cell_type": "code",
   "execution_count": null,
   "metadata": {},
   "outputs": [],
   "source": [
    "# Drop rows with missing values and drop duplicate\n",
    "df.dropna(inplace=True)\n",
    "df.drop_duplicates(inplace=True)\n",
    "\n",
    "# Visualize pairplot of df (similar to pairs() in R)\n",
    "sns.pairplot(df, hue='rating');"
   ]
  },
  {
   "cell_type": "code",
   "execution_count": null,
   "metadata": {},
   "outputs": [],
   "source": [
    "sns.pairplot?"
   ]
  },
  {
   "cell_type": "code",
   "execution_count": null,
   "metadata": {},
   "outputs": [],
   "source": [
    "# Get summary stats of df\n",
    "df.describe()"
   ]
  },
  {
   "cell_type": "markdown",
   "metadata": {},
   "source": [
    "## Groupby (split-apply-combine) to answer the question"
   ]
  },
  {
   "cell_type": "markdown",
   "metadata": {},
   "source": [
    "<a id='step_1'></a>"
   ]
  },
  {
   "cell_type": "markdown",
   "metadata": {},
   "source": [
    "Let us first use a *groupby* method to split the data into groups, where each group is the set of movies released in a given year. "
   ]
  },
  {
   "cell_type": "code",
   "execution_count": null,
   "metadata": {},
   "outputs": [],
   "source": [
    "# Group by year\n",
    "df_by_year = df.groupby('release_year')"
   ]
  },
  {
   "cell_type": "markdown",
   "metadata": {},
   "source": [
    "This creates a *groupby* object:"
   ]
  },
  {
   "cell_type": "code",
   "execution_count": null,
   "metadata": {},
   "outputs": [],
   "source": [
    "# Check type of GroupBy object\n",
    "type(df_by_year)"
   ]
  },
  {
   "cell_type": "markdown",
   "metadata": {},
   "source": [
    "Let us compute summary statistics of our response variable `user_rating_score` in order to capture the main characteristics for each value of `release_year`."
   ]
  },
  {
   "cell_type": "code",
   "execution_count": null,
   "metadata": {},
   "outputs": [],
   "source": [
    "(df.groupby('release_year')\n",
    "    .describe())"
   ]
  },
  {
   "cell_type": "markdown",
   "metadata": {},
   "source": [
    "We can depict the above information using a boxplot as follows:"
   ]
  },
  {
   "cell_type": "code",
   "execution_count": null,
   "metadata": {},
   "outputs": [],
   "source": [
    "# Create boxplot  via factor plot\n",
    "sns.factorplot(x=\"release_year\", y=\"user_rating_score\",data=df, kind=\"box\")"
   ]
  },
  {
   "cell_type": "markdown",
   "metadata": {},
   "source": [
    "Let's obtain a summary statistic, such as the mean and the compare agains the exmplanatory variables `release_year` and `rating`."
   ]
  },
  {
   "cell_type": "code",
   "execution_count": null,
   "metadata": {},
   "outputs": [],
   "source": [
    "(df.groupby(['release_year','rating'])\n",
    "   .median())"
   ]
  },
  {
   "cell_type": "code",
   "execution_count": null,
   "metadata": {},
   "outputs": [],
   "source": [
    "df_median = (df.groupby(['release_year','rating'])\n",
    "               .apply(lambda x:x.user_rating_score.median())) # behaves similar to summarise()\n",
    "df_median.head() "
   ]
  },
  {
   "cell_type": "code",
   "execution_count": null,
   "metadata": {},
   "outputs": [],
   "source": [
    "# To apply an arbitrary function the lambda function should return a new series\n",
    "df1 = (df.groupby(['release_year','rating'])\n",
    "               .apply(lambda x:pd.Series({'median_score':x.user_rating_score.median()})))\n",
    "df1.head()"
   ]
  },
  {
   "cell_type": "markdown",
   "metadata": {},
   "source": [
    "## `%>%`'ing in pandas \n",
    "\n",
    "- Method chaining means to call methods on an object one after another -- it is very popular in data science.\n",
    "\n",
    "- Suppose we now want to compute an arbitrary function (e.g., the IQR) and the median along all possible values of `release_year` and `rating` for which the number of observations is positive."
   ]
  },
  {
   "cell_type": "code",
   "execution_count": null,
   "metadata": {},
   "outputs": [],
   "source": [
    "# To apply an arbitrary function the lambda function should return a new series\n",
    "df2 = (df.groupby(['release_year','rating']) # combine step\n",
    "               .apply(lambda x:pd.Series({'n':x.user_rating_score.count(),\n",
    "                                          'median':x.user_rating_score.median(),\n",
    "                                          'q1':x.user_rating_score.quantile(0.25),\n",
    "                                          'q3':x.user_rating_score.quantile(0.75)}))\n",
    "               .query('n>0') # similar to filter() in dplyr\n",
    "               .assign(IQR_score=lambda x: x.q3-x.q1) # similar to mutate() in dplyr\n",
    "      .sort_index()) \n",
    "df2"
   ]
  },
  {
   "cell_type": "markdown",
   "metadata": {},
   "source": [
    "## From wide to long format"
   ]
  },
  {
   "cell_type": "markdown",
   "metadata": {},
   "source": [
    "- We now want to create a line plot `user_rating_score` against `release_year`of the median along with inter-quartile range (i.e., plotting q3 and q1) but identifying each line according to `rating`. \n",
    "- To do so, it is more convenient to convert our previous DataFrame object from wide to long format."
   ]
  },
  {
   "cell_type": "code",
   "execution_count": null,
   "metadata": {},
   "outputs": [],
   "source": [
    "df3 = (pd.melt(df2.reset_index(), # notice that we have to add reset index\n",
    "              col_level=0,\n",
    "              id_vars=['release_year','rating'],\n",
    "              value_vars=['median','q1','q3'],\n",
    "              value_name='SummaryStatistic'))\n",
    "df3.head()"
   ]
  },
  {
   "cell_type": "code",
   "execution_count": null,
   "metadata": {},
   "outputs": [],
   "source": [
    "# Another less obscure option using stack()\n",
    "df2.stack()"
   ]
  },
  {
   "cell_type": "code",
   "execution_count": null,
   "metadata": {},
   "outputs": [],
   "source": [
    "df2.stack().reset_index()"
   ]
  },
  {
   "cell_type": "code",
   "execution_count": null,
   "metadata": {},
   "outputs": [],
   "source": [
    "df3 = (df2.stack()\n",
    "    .reset_index()\n",
    "    .rename(index=str, columns={\"level_2\": \"SummaryStatistic\", 0: \"value\"}))\n",
    "df3"
   ]
  }
 ],
 "metadata": {
  "language_info": {
   "name": "python",
   "pygments_lexer": "ipython3"
  }
 },
 "nbformat": 4,
 "nbformat_minor": 2
}
