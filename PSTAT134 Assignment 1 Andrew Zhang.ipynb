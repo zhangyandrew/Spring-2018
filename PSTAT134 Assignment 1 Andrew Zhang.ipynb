{
 "cells": [
  {
   "cell_type": "markdown",
   "metadata": {},
   "source": [
    "# PSTAT134 Assignment 1\n",
    "### Andrew Zhang"
   ]
  },
  {
   "cell_type": "markdown",
   "metadata": {},
   "source": [
    "### Simulating Confidence Intervals from a Normal Distribution\n",
    "In this assignment, I will be comparing confidence intervals from randomly generated observations from a normal distribution where **$\\mu$ = 0** and **$\\sigma$ = 1**. I will be testing different simulations of different sizes to see which provides the most accurate confidence interval and how many of them eclipse the theoretical bounds."
   ]
  },
  {
   "cell_type": "code",
   "execution_count": null,
   "metadata": {},
   "outputs": [],
   "source": [
    "import numpy as np\n",
    "import pandas as pd"
   ]
  },
  {
   "cell_type": "markdown",
   "metadata": {},
   "source": [
    "### Observations = 1000"
   ]
  },
  {
   "cell_type": "code",
   "execution_count": null,
   "metadata": {},
   "outputs": [],
   "source": [
    "mu, sigma = 0, 1\n",
    "sim1 = np.random.normal(mu, sigma, 1000)"
   ]
  },
  {
   "cell_type": "code",
   "execution_count": null,
   "metadata": {},
   "outputs": [],
   "source": [
    "np.random.seed(123)\n",
    "sim_mu1 = np.mean(sim1)\n",
    "sim_mu1"
   ]
  },
  {
   "cell_type": "code",
   "execution_count": null,
   "metadata": {},
   "outputs": [],
   "source": [
    "np.random.seed(123)\n",
    "sim_var1 = np.var(sim1)\n",
    "sim_var1"
   ]
  },
  {
   "cell_type": "markdown",
   "metadata": {},
   "source": [
    "**CI = $\\mu$ $\\pm$ 1.96$\\sigma$**"
   ]
  },
  {
   "cell_type": "code",
   "execution_count": null,
   "metadata": {},
   "outputs": [],
   "source": [
    "#Theoretical CI\n",
    "theo_CI_lower = mu - 1.96 * sigma\n",
    "theo_CI_upper = mu + 1.96 * sigma\n",
    "theo_CI = [theo_CI_lower, theo_CI_upper]\n",
    "theo_CI"
   ]
  },
  {
   "cell_type": "code",
   "execution_count": null,
   "metadata": {},
   "outputs": [],
   "source": [
    "#Simulated CI1\n",
    "import math\n",
    "sim_CI_lower1 = sim_mu1 - 1.96 * math.sqrt(sim_var1)\n",
    "sim_CI_upper1 = sim_mu1 + 1.96 * math.sqrt(sim_var1)\n",
    "sim_CI1 = [sim_CI_lower1, sim_CI_upper1]\n",
    "sim_CI1"
   ]
  },
  {
   "cell_type": "markdown",
   "metadata": {},
   "source": [
    "### Observations = 10000"
   ]
  },
  {
   "cell_type": "code",
   "execution_count": null,
   "metadata": {},
   "outputs": [],
   "source": [
    "sim2 = np.random.normal(mu, sigma, 10000)"
   ]
  },
  {
   "cell_type": "code",
   "execution_count": null,
   "metadata": {},
   "outputs": [],
   "source": [
    "np.random.seed(123)\n",
    "sim_mu2 = np.mean(sim2)\n",
    "sim_mu2"
   ]
  },
  {
   "cell_type": "code",
   "execution_count": null,
   "metadata": {},
   "outputs": [],
   "source": [
    "np.random.seed(123)\n",
    "sim_var2 = np.var(sim2)\n",
    "sim_var2"
   ]
  },
  {
   "cell_type": "code",
   "execution_count": null,
   "metadata": {},
   "outputs": [],
   "source": [
    "#Simulated CI2\n",
    "sim_CI_lower2 = sim_mu2 - 1.96 * math.sqrt(sim_var2)\n",
    "sim_CI_upper2 = sim_mu2 + 1.96 * math.sqrt(sim_var2)\n",
    "sim_CI2 = [sim_CI_lower2, sim_CI_upper2]\n",
    "sim_CI2"
   ]
  },
  {
   "cell_type": "markdown",
   "metadata": {},
   "source": [
    "### Observations = 100000"
   ]
  },
  {
   "cell_type": "code",
   "execution_count": null,
   "metadata": {},
   "outputs": [],
   "source": [
    "sim3 = np.random.normal(mu, sigma, 100000)"
   ]
  },
  {
   "cell_type": "code",
   "execution_count": null,
   "metadata": {},
   "outputs": [],
   "source": [
    "np.random.seed(123)\n",
    "sim_mu3 = np.mean(sim3)\n",
    "sim_mu3"
   ]
  },
  {
   "cell_type": "code",
   "execution_count": null,
   "metadata": {},
   "outputs": [],
   "source": [
    "np.random.seed(123)\n",
    "sim_var3 = np.var(sim3)\n",
    "sim_var3"
   ]
  },
  {
   "cell_type": "code",
   "execution_count": null,
   "metadata": {},
   "outputs": [],
   "source": [
    "#Simulated CI3\n",
    "sim_CI_lower3 = sim_mu3 - 1.96 * math.sqrt(sim_var3)\n",
    "sim_CI_upper3 = sim_mu3 + 1.96 * math.sqrt(sim_var3)\n",
    "sim_CI3 = [sim_CI_lower3, sim_CI_upper3]\n",
    "sim_CI3"
   ]
  },
  {
   "cell_type": "markdown",
   "metadata": {},
   "source": [
    "### Observations = 10000000"
   ]
  },
  {
   "cell_type": "code",
   "execution_count": null,
   "metadata": {},
   "outputs": [],
   "source": [
    "sim4 = np.random.normal(mu, sigma, 10000000)"
   ]
  },
  {
   "cell_type": "code",
   "execution_count": null,
   "metadata": {},
   "outputs": [],
   "source": [
    "np.random.seed(123)\n",
    "sim_mu4 = np.mean(sim4)\n",
    "sim_mu4"
   ]
  },
  {
   "cell_type": "code",
   "execution_count": null,
   "metadata": {},
   "outputs": [],
   "source": [
    "np.random.seed(123)\n",
    "sim_var4 = np.var(sim4)\n",
    "sim_var4"
   ]
  },
  {
   "cell_type": "code",
   "execution_count": null,
   "metadata": {},
   "outputs": [],
   "source": [
    "#Simulated CI4\n",
    "sim_CI_lower4 = sim_mu4 - 1.96 * math.sqrt(sim_var4)\n",
    "sim_CI_upper4 = sim_mu4 + 1.96 * math.sqrt(sim_var4)\n",
    "sim_CI4 = [sim_CI_lower4, sim_CI_upper4]\n",
    "sim_CI4"
   ]
  },
  {
   "cell_type": "markdown",
   "metadata": {},
   "source": [
    "### Conclusion\n",
    "After simulating 4 different instances of a normal distribution with $\\mu$ = 0 and $\\sigma$ = 1, we can see that increasing the number of simulated observations helps to create a confidence interval close to the theoretical confidence interval. Out of the 4 simulations, they all seem to breach the bound of 1.96 in some form. Either the lower bound or the upper bound eclipses the theoretical bounds, but sim_CI4 seems the closest. "
   ]
  },
  {
   "cell_type": "code",
   "execution_count": null,
   "metadata": {},
   "outputs": [],
   "source": []
  }
 ],
 "metadata": {
  "language_info": {
   "name": "python",
   "pygments_lexer": "ipython3"
  }
 },
 "nbformat": 4,
 "nbformat_minor": 2
}
