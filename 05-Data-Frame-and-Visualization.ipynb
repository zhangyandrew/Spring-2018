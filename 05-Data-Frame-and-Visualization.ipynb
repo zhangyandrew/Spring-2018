{
 "cells": [
  {
   "cell_type": "markdown",
   "metadata": {},
   "source": [
    "# Data Frames an Visualization\n",
    "\n",
    "Setup our data fetching function again"
   ]
  },
  {
   "cell_type": "code",
   "execution_count": null,
   "metadata": {},
   "outputs": [],
   "source": [
    "import pandas as pd\n",
    "\n",
    "def get_nba_data(endpt, params, return_url=False):\n",
    "\n",
    "    ## endpt: https://github.com/seemethere/nba_py/wiki/stats.nba.com-Endpoint-Documentation\n",
    "    ## params: dictionary of parameters: i.e., {'LeagueID':'00'}\n",
    "    \n",
    "    from pandas import DataFrame\n",
    "    from urllib.parse import urlencode\n",
    "    import json\n",
    "    \n",
    "    useragent = \"\\\"Mozilla/5.0 (Macintosh; Intel Mac OS X 10_11_2) AppleWebKit/601.3.9 (KHTML, like Gecko) Version/9.0.2 Safari/601.3.9\\\"\"\n",
    "    dataurl = \"\\\"\" + \"http://stats.nba.com/stats/\" + endpt + \"?\" + urlencode(params) + \"\\\"\"\n",
    "    \n",
    "    # for debugging: just return the url\n",
    "    if return_url:\n",
    "        return(dataurl)\n",
    "    \n",
    "    jsonstr = !wget -q -O - --user-agent={useragent} {dataurl}\n",
    "    \n",
    "    data = json.loads(jsonstr[0])\n",
    "    \n",
    "    h = data['resultSets'][0]['headers']\n",
    "    d = data['resultSets'][0]['rowSet']\n",
    "    \n",
    "    return(DataFrame(d, columns=h))"
   ]
  },
  {
   "cell_type": "markdown",
   "metadata": {},
   "source": [
    "## Get one player's shot data"
   ]
  },
  {
   "cell_type": "code",
   "execution_count": null,
   "metadata": {},
   "outputs": [],
   "source": [
    "params = {'PlayerID':'201939',\n",
    "          'PlayerPosition':'',\n",
    "          'Season':'2016-17',\n",
    "          'ContextMeasure':'FGA',\n",
    "          'DateFrom':'',\n",
    "          'DateTo':'',\n",
    "          'GameID':'',\n",
    "          'GameSegment':'',\n",
    "          'LastNGames':'0',\n",
    "          'LeagueID':'00',\n",
    "          'Location':'',\n",
    "          'Month':'0',\n",
    "          'OpponentTeamID':'0',\n",
    "          'Outcome':'',\n",
    "          'Period':'0',\n",
    "          'Position':'',\n",
    "          'RookieYear':'',\n",
    "          'SeasonSegment':'',\n",
    "          'SeasonType':'Regular Season',\n",
    "          'TeamID':'0',\n",
    "          'VsConference':'',\n",
    "          'VsDivision':''}\n",
    "\n",
    "shotdata = get_nba_data('shotchartdetail', params)\n",
    "shotdata.head()"
   ]
  },
  {
   "cell_type": "markdown",
   "metadata": {},
   "source": [
    "## Drawing the court"
   ]
  },
  {
   "cell_type": "code",
   "execution_count": null,
   "metadata": {},
   "outputs": [],
   "source": [
    "%matplotlib inline\n",
    "import matplotlib.pyplot as plt\n",
    "import pandas as pd\n",
    "import seaborn as sns\n",
    "\n",
    "## code is from http://savvastjortjoglou.com/nba-shot-sharts.html\n",
    "def draw_court(ax=None, color='black', lw=1, outer_lines=False):\n",
    "    \n",
    "    from matplotlib.patches import Circle, Rectangle, Arc\n",
    "    from matplotlib.pyplot import gca\n",
    "    \n",
    "    # If an axes object isn't provided to plot onto, just get current one\n",
    "    if ax is None:\n",
    "        ax = gca()\n",
    "\n",
    "    # Create the various parts of an NBA basketball court\n",
    "\n",
    "    # Create the basketball hoop\n",
    "    # Diameter of a hoop is 18\" so it has a radius of 9\", which is a value\n",
    "    # 7.5 in our coordinate system\n",
    "    hoop = Circle((0, 0), radius=7.5, linewidth=lw, color=color, fill=False)\n",
    "\n",
    "    # Create backboard\n",
    "    backboard = Rectangle((-30, -7.5), 60, 0, linewidth=lw, color=color)\n",
    "\n",
    "    # The paint\n",
    "    # Create the outer box 0f the paint, width=16ft, height=19ft\n",
    "    outer_box = Rectangle((-80, -47.5), 160, 190, linewidth=lw, color=color,\n",
    "                          fill=False)\n",
    "    # Create the inner box of the paint, widt=12ft, height=19ft\n",
    "    inner_box = Rectangle((-60, -47.5), 120, 190, linewidth=lw, color=color,\n",
    "                          fill=False)\n",
    "\n",
    "    # Create free throw top arc\n",
    "    top_free_throw = Arc((0, 142.5), 120, 120, theta1=0, theta2=180,\n",
    "                         linewidth=lw, color=color, fill=False)\n",
    "    # Create free throw bottom arc\n",
    "    bottom_free_throw = Arc((0, 142.5), 120, 120, theta1=180, theta2=0,\n",
    "                            linewidth=lw, color=color, linestyle='dashed')\n",
    "    # Restricted Zone, it is an arc with 4ft radius from center of the hoop\n",
    "    restricted = Arc((0, 0), 80, 80, theta1=0, theta2=180, linewidth=lw,\n",
    "                     color=color)\n",
    "\n",
    "    # Three point line\n",
    "    # Create the side 3pt lines, they are 14ft long before they begin to arc\n",
    "    corner_three_a = Rectangle((-219, -47.5), 0, 140, linewidth=lw,\n",
    "                               color=color)\n",
    "    corner_three_b = Rectangle((219, -47.5), 0, 140, linewidth=lw, color=color)\n",
    "    # 3pt arc - center of arc will be the hoop, arc is 23'9\" away from hoop\n",
    "    # I just played around with the theta values until they lined up with the \n",
    "    # threes\n",
    "    three_arc = Arc((0, 0), 475, 475, theta1=22.5, theta2=157.5, linewidth=lw,\n",
    "                    color=color)\n",
    "\n",
    "    # Center Court\n",
    "    center_outer_arc = Arc((0, 422.5), 120, 120, theta1=180, theta2=0,\n",
    "                           linewidth=lw, color=color)\n",
    "    center_inner_arc = Arc((0, 422.5), 40, 40, theta1=180, theta2=0,\n",
    "                           linewidth=lw, color=color)\n",
    "\n",
    "    # List of the court elements to be plotted onto the axes\n",
    "    court_elements = [hoop, backboard, outer_box, inner_box, top_free_throw,\n",
    "                      bottom_free_throw, restricted, corner_three_a,\n",
    "                      corner_three_b, three_arc, center_outer_arc,\n",
    "                      center_inner_arc]\n",
    "\n",
    "    if outer_lines:\n",
    "        # Draw the half court line, baseline and side out bound lines\n",
    "        outer_lines = Rectangle((-250, -47.5), 500, 470, linewidth=lw,\n",
    "                                color=color, fill=False)\n",
    "        court_elements.append(outer_lines)\n",
    "\n",
    "    # Add the court elements onto the axes\n",
    "    for element in court_elements:\n",
    "        ax.add_patch(element)\n",
    "\n",
    "    return ax\n",
    "\n",
    "plt.figure(figsize=(12,11))\n",
    "draw_court(outer_lines=True)\n",
    "plt.xlim(-300,300)\n",
    "plt.ylim(-100,500)\n",
    "plt.show()"
   ]
  },
  {
   "cell_type": "markdown",
   "metadata": {},
   "source": [
    "## Drawing a scatter plot"
   ]
  },
  {
   "cell_type": "code",
   "execution_count": null,
   "metadata": {},
   "outputs": [],
   "source": [
    "plt.figure(figsize=(12,11))\n",
    "plt.scatter(shotdata.LOC_X, shotdata.LOC_Y)\n",
    "draw_court(outer_lines=True)\n",
    "\n",
    "plt.xlim(300,-300)\n",
    "plt.ylim(-100,500)\n",
    "plt.show()"
   ]
  },
  {
   "cell_type": "markdown",
   "metadata": {},
   "source": [
    "## Seaborn Package\n",
    "\n",
    "Seaborn has some statistical functionality built-in: e.g., [linear regression model](https://seaborn.pydata.org/tutorial/regression.html#functions-to-draw-linear-regression-models). Refer to PDSH for a section on [Seaborn plotting package](https://jakevdp.github.io/PythonDataScienceHandbook/04.14-visualization-with-seaborn.html)\n",
    "\n",
    "Another example is to use Seaborn to draw marginal density functions."
   ]
  },
  {
   "cell_type": "code",
   "execution_count": null,
   "metadata": {},
   "outputs": [],
   "source": [
    "# create our jointplot\n",
    "joint_shot_chart = sns.jointplot(x=\"LOC_X\", y=\"LOC_Y\", data=shotdata, stat_func=None,\n",
    "                                 kind='scatter', space=0, alpha=0.5)\n",
    "\n",
    "joint_shot_chart.fig.set_size_inches(12,11)\n",
    "\n",
    "# A joint plot has 3 Axes, the first one called ax_joint \n",
    "# is the one we want to draw our court onto and adjust some other settings\n",
    "ax = joint_shot_chart.ax_joint\n",
    "draw_court(ax)\n",
    "\n",
    "# Adjust the axis limits and orientation of the plot in order\n",
    "# to plot half court, with the hoop by the top of the plot\n",
    "ax.set_xlim(-250,250)\n",
    "ax.set_ylim(422.5, -47.5)\n",
    "\n",
    "# Get rid of axis labels and tick marks\n",
    "ax.set_xlabel('')\n",
    "ax.set_ylabel('')\n",
    "ax.tick_params(labelbottom=False, labelleft=False)\n",
    "\n",
    "# Add a title\n",
    "ax.set_title('Stephen Curry, 2016-17, FGA', \n",
    "             y=1.2, fontsize=18)\n",
    "\n",
    "# Add Data Scource and Author\n",
    "ax.text(-250,445,'Data Source: stats.nba.com'\n",
    "        '\\nAuthor: Savvas Tjortjoglou (savvastjortjoglou.com)',\n",
    "        fontsize=12)\n",
    "\n",
    "plt.show()"
   ]
  },
  {
   "cell_type": "markdown",
   "metadata": {},
   "source": [
    "Another example is to use Seaborn to bin the court into hex-shaped bins.\n",
    "\n",
    "__Exercise__: Change the plot kind to 'hex'"
   ]
  },
  {
   "cell_type": "markdown",
   "metadata": {},
   "source": [
    "## More about the data\n",
    "\n",
    "Glossary of terms: https://stats.nba.com/help/glossary/\n",
    "\n",
    "- FGA: Field Goals Attempted\n",
    "- FGM: Field Goals Made\n",
    "\n",
    "Pandas allows for computing summary statistics similar to tidyverse. The general approach is based on a similar concept.\n",
    "\n",
    "## Split-apply-combine\n",
    "\n",
    "The `groupby` function can be used to create summaries of different groupings. This is often referred to as the split-apply-combine approach.\n",
    "\n",
    "![Split, Apply, Combine](https://jakevdp.github.io/PythonDataScienceHandbook/figures/03.08-split-apply-combine.png)\n",
    "\n",
    ">    - The *split* step involves breaking up and grouping a ``DataFrame`` depending on the value of the specified key.\n",
    ">    - The *apply* step involves computing some function, usually an aggregate, transformation, or filtering, within the individual groups.\n",
    ">    - The *combine* step merges the results of these operations into an output array.\n",
    "\n",
    "Recall what the shot data looks like"
   ]
  },
  {
   "cell_type": "code",
   "execution_count": null,
   "metadata": {},
   "outputs": [],
   "source": [
    "shotdata.head()"
   ]
  },
  {
   "cell_type": "markdown",
   "metadata": {},
   "source": [
    "Let's inspect what the groupped data frame looks like"
   ]
  },
  {
   "cell_type": "code",
   "execution_count": null,
   "metadata": {},
   "outputs": [],
   "source": [
    "for r, d in shotdata.groupby('SHOT_ZONE_RANGE'):\n",
    "    print(\"***\", r)\n",
    "    print(d.head())"
   ]
  },
  {
   "cell_type": "markdown",
   "metadata": {},
   "source": [
    "### Split by `SHOT_ZONE_RANGE` column, Apply `mean()`, Combine"
   ]
  },
  {
   "cell_type": "code",
   "execution_count": null,
   "metadata": {},
   "outputs": [],
   "source": [
    "shotdata.groupby('SHOT_ZONE_RANGE')['SHOT_MADE_FLAG'].mean()"
   ]
  }
 ],
 "metadata": {
  "language_info": {
   "name": "python",
   "pygments_lexer": "ipython3"
  }
 },
 "nbformat": 4,
 "nbformat_minor": 2
}
