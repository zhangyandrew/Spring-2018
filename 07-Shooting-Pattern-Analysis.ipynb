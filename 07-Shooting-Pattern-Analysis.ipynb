{
 "cells": [
  {
   "cell_type": "markdown",
   "metadata": {},
   "source": [
    "# Shooting Pattern Analysis\n",
    "\n",
    "In this analysis, we analyze the shotchart of players. We show that there are different modes of shots, and each player's shooting style can be described as some combination of these modes.\n",
    "\n",
    "To clean up the notebook, some functions have been moved to a local module: `helper_basketball.py`."
   ]
  },
  {
   "cell_type": "code",
   "execution_count": null,
   "metadata": {},
   "outputs": [],
   "source": [
    "%matplotlib inline\n",
    "\n",
    "import pandas as pd\n",
    "import numpy as np\n",
    "import matplotlib.pyplot as plt\n",
    "import subprocess as sp\n",
    "import pickle\n",
    "\n",
    "import helper_basketball as h\n",
    "import imp\n",
    "imp.reload(h);"
   ]
  },
  {
   "cell_type": "code",
   "execution_count": null,
   "metadata": {},
   "outputs": [],
   "source": [
    "%%bash\n",
    "cat helper_basketball.py"
   ]
  },
  {
   "cell_type": "markdown",
   "metadata": {},
   "source": [
    "## Import a python file as a module\n",
    "\n",
    "File `helper_basketball.py` is imported as a module, and can be used like any other module. For example, you can get the docstring and function source using ? and ??, respectively."
   ]
  },
  {
   "cell_type": "code",
   "execution_count": null,
   "metadata": {},
   "outputs": [],
   "source": [
    "## h.get_nba_data?\n",
    "## h.get_nba_data??"
   ]
  },
  {
   "cell_type": "markdown",
   "metadata": {},
   "source": [
    "## Get team and player data"
   ]
  },
  {
   "cell_type": "code",
   "execution_count": null,
   "metadata": {},
   "outputs": [],
   "source": [
    "## get all 2016-17 teams\n",
    "params = {'LeagueID':'00','Season': '2016-17'}\n",
    "teams = h.get_nba_data('commonTeamYears', params).set_index('TEAM_ID')\n",
    "allteams = teams.loc[teams.MAX_YEAR=='2017'].index.values\n",
    "\n",
    "## get all 2016-17 players\n",
    "params = {'LeagueID':'00', 'Season': '2016-17', 'IsOnlyCurrentSeason': '0'}\n",
    "players = h.get_nba_data('commonallplayers', params).set_index('PERSON_ID')\n",
    "allplyrs = players.loc[players.TEAM_ID.isin(allteams)].index.values"
   ]
  },
  {
   "cell_type": "markdown",
   "metadata": {},
   "source": [
    "## Get shooting data\n",
    "\n",
    "We follow the data collection procedure described in this paper: https://arxiv.org/abs/1401.0942.\n",
    "\n",
    "The data consists of all shots attempted by anyone during the regular season of 2016-17. The shots are filtered in the 50' x 35' offensive court then only those who made more than 50 are included. Since the process takes a long time, I commented out the code for downloading the data, but, instead, saved the data into a pickle file."
   ]
  },
  {
   "cell_type": "code",
   "execution_count": null,
   "metadata": {},
   "outputs": [],
   "source": [
    "## params = {'PlayerID':'201939',\n",
    "##           'PlayerPosition':'',\n",
    "##           'Season':'2016-17',\n",
    "##           'ContextMeasure':'FGA',\n",
    "##           'DateFrom':'',\n",
    "##           'DateTo':'',\n",
    "##           'GameID':'',\n",
    "##           'GameSegment':'',\n",
    "##           'LastNGames':'0',\n",
    "##           'LeagueID':'00',\n",
    "##           'Location':'',\n",
    "##           'Month':'0',\n",
    "##           'OpponentTeamID':'0',\n",
    "##           'Outcome':'',\n",
    "##           'Period':'0',\n",
    "##           'Position':'',\n",
    "##           'RookieYear':'',\n",
    "##           'SeasonSegment':'',\n",
    "##           'SeasonType':'Regular Season',\n",
    "##           'TeamID':'0',\n",
    "##           'VsConference':'',\n",
    "##           'VsDivision':''}\n",
    "## \n",
    "## shotdf = []\n",
    "## for p in allplyrs:\n",
    "##     \n",
    "##     ## get player p's data\n",
    "##     params['PlayerID'] = p\n",
    "##     shotdata = h.get_nba_data('shotchartdetail', params)\n",
    "##     \n",
    "##     ## subset columns\n",
    "##     sc = shotdata.loc[:,'SHOT_DISTANCE':'SHOT_MADE_FLAG']\n",
    "##     sc.drop('SHOT_ATTEMPTED_FLAG', axis=1)\n",
    "##     \n",
    "##     ## filter shots to 31 feet from end zone\n",
    "##     sc = sc.loc[sc.LOC_Y < (31*12)]\n",
    "##     \n",
    "##     ## keep data with more than 50 shots\n",
    "##     \n",
    "##     if sc.SHOT_MADE_FLAG.sum() > 50:\n",
    "##         \n",
    "##         sc['PlayerID'] = p\n",
    "##         shotdf += [sc]\n",
    "## \n",
    "## allshots = pd.concat(shotdf)\n",
    "## \n",
    "## pickle.dump(allshots, open('allshots2016-17.pkl', 'wb'))"
   ]
  },
  {
   "cell_type": "markdown",
   "metadata": {},
   "source": [
    "## Pickle module\n",
    "\n",
    "A `pickle` file is a python module for saving data objects into a file."
   ]
  },
  {
   "cell_type": "code",
   "execution_count": null,
   "metadata": {},
   "outputs": [],
   "source": [
    "allshots = pickle.load(open('allshots2016-17.pkl', 'rb'))\n",
    "\n",
    "# allmade = allshots.loc[allshots.SHOT_MADE_FLAG==1]\n",
    "allmade = allshots\n",
    "allmade.head()"
   ]
  },
  {
   "cell_type": "markdown",
   "metadata": {},
   "source": [
    "## Data preprocessing\n",
    "\n",
    "We want to limit X and Y locations to 35 feet (length-wise) by 50 feet (width-wise). Data contains more of the court:"
   ]
  },
  {
   "cell_type": "code",
   "execution_count": null,
   "metadata": {},
   "outputs": [],
   "source": [
    "pd.DataFrame([allmade.LOC_X.describe(), \n",
    "              allmade.LOC_Y.describe()])"
   ]
  },
  {
   "cell_type": "markdown",
   "metadata": {},
   "source": [
    "## Binned shot counts\n",
    "\n",
    "We divide the court up into bins, and, for each player, count number of shots that fall into each bin. Then, we vectorize the bins into a row vector."
   ]
  },
  {
   "cell_type": "code",
   "execution_count": null,
   "metadata": {},
   "outputs": [],
   "source": [
    "## players info\n",
    "player_ids = allmade.PlayerID.unique()\n",
    "num_players = player_ids.size\n",
    "\n",
    "## bin edge definitions in inches\n",
    "xedges = (np.linspace(start=-25, stop=25, num=151, dtype=np.float)) * 12\n",
    "yedges = (np.linspace(start= -4, stop=31, num=106, dtype=np.float)) * 12\n",
    "\n",
    "## number of bins is one less than number of edges\n",
    "nx = xedges.size - 1\n",
    "ny = yedges.size - 1\n",
    "\n",
    "## 2d histogram containers for binned counts and smoothed binned counts\n",
    "all_counts = {}\n",
    "all_smooth = {}\n",
    "\n",
    "## data matrix: players (row) by vectorized 2-d court locations (column)\n",
    "for i, one in enumerate(allmade.groupby('PlayerID')):\n",
    "    \n",
    "    ## what does this line do?\n",
    "    pid, pdf = one\n",
    "    \n",
    "    ## h.bin_shots: what is this function doing?\n",
    "    tmp1, xedges, yedges = h.bin_shots(pdf, bin_edges=(xedges, yedges), density=True, sigma=2)\n",
    "    tmp2, xedges, yedges = h.bin_shots(pdf, bin_edges=(xedges, yedges), density=False)\n",
    "    \n",
    "    ## vectorize and store into dictionary\n",
    "    all_smooth[pid] = tmp1.reshape(-1)\n",
    "    all_counts[pid] = tmp2.reshape(-1)"
   ]
  },
  {
   "cell_type": "markdown",
   "metadata": {},
   "source": [
    "## Kernel smoothing (filtering)\n",
    "\n",
    "Kernel smoothing is a frequently used function in image processing. It can also be used to smooth-out the histogram. Then, the smoothed histogram is normalized to sum to 1 to create an empirical distribution function. It is important we do this since each player has attempted different number of shots, and this procedure normalizes everyone's shooting pattern.\n",
    "\n",
    "What is the name of the kernel smoothing function?"
   ]
  },
  {
   "cell_type": "code",
   "execution_count": null,
   "metadata": {},
   "outputs": [],
   "source": [
    "# h.bin_shots??"
   ]
  },
  {
   "cell_type": "markdown",
   "metadata": {},
   "source": [
    "## Visualizing star players\n",
    "\n",
    "We will visualize the shot chart counts and smoothed fields for some players. Recall the player data structure."
   ]
  },
  {
   "cell_type": "code",
   "execution_count": null,
   "metadata": {},
   "outputs": [],
   "source": [
    "players.head()"
   ]
  },
  {
   "cell_type": "markdown",
   "metadata": {},
   "source": []
  },
  {
   "cell_type": "code",
   "execution_count": null,
   "metadata": {},
   "outputs": [],
   "source": [
    "## select players from paper\n",
    "stars = 'LeBron James|Brook Lopez|Tyson Chandler|Marc Gasol|Tony Parker|Kyrie Irving|Stephen Curry|James Harden|Steve Novak'\n",
    "starids = players[players.DISPLAY_FIRST_LAST.str.contains(stars)].loc[player_ids].dropna()"
   ]
  },
  {
   "cell_type": "code",
   "execution_count": null,
   "metadata": {},
   "outputs": [],
   "source": [
    "## create figure and axes\n",
    "fig, ax = plt.subplots(starids.shape[0], 2, figsize=(20,60))\n",
    "\n",
    "for axi, plyri in enumerate(starids.index.values):\n",
    "    \n",
    "    h.plot_shotchart(all_counts[plyri], xedges, yedges, ax=ax[axi,0])\n",
    "    h.plot_shotchart(all_smooth[plyri], xedges, yedges, ax=ax[axi,1])\n",
    "    \n",
    "    ax[axi,0].set_title(players.DISPLAY_FIRST_LAST[plyri]+', '+str(all_counts[plyri].sum().astype('int')))\n",
    "    ax[axi,1].set_title(players.DISPLAY_FIRST_LAST[plyri]+', '+str(all_counts[plyri].sum().astype('int')))"
   ]
  },
  {
   "cell_type": "markdown",
   "metadata": {},
   "source": [
    "## Non-negative matrix factorization (NMF)\n",
    "\n",
    "Given some matrix $X$ is $p\\times n$ matrix, NMF computes the following factorization:\n",
    "$$ \\min_{W,H} \\| X - WH \\|_F\\\\\n",
    "\\text{ subject to } W\\geq 0,\\ H\\geq 0, $$\n",
    "where $W$ is ${p\\times r}$ matrix and $H$ is ${r\\times n}$ matrix.\n",
    "\n",
    "NMF is a unique factorization in that all values are non-negative; hence, it is used for factorization of $X$ into bases consist of non-negative values. In many practical settings such assumptions enable some realistic interpretation.\n",
    "\n",
    "Some common applications include:\n",
    "- Image processing: pixel intensities are non-negative\n",
    "- Bioinformatics: gene expressions are non-negative\n",
    "- Text mining: document term matrix\n",
    "\n",
    "[This paper](https://arxiv.org/abs/1401.5226) discusses some of these in more detail.\n",
    "\n",
    "In our case, columns of matrix $X$ represent vectorized smoothed density of one player, and we compute the non-negative $r$-bases vectors in matrix $W$. Columns in matrix $H$ are the vector of coefficients. Each coefficient in a column says how important each of the bases (columns of $W$) are."
   ]
  },
  {
   "cell_type": "code",
   "execution_count": null,
   "metadata": {},
   "outputs": [],
   "source": [
    "## Non-negative Matrix Factorization\n",
    "\n",
    "import sklearn.decomposition as skld\n",
    "\n",
    "X = np.stack(all_smooth.values()).T\n",
    "\n",
    "## what are the different options mean for NMF()?\n",
    "model = skld.NMF(n_components=10, init='nndsvda', max_iter=500, random_state=0)\n",
    "W = model.fit_transform(X)\n",
    "H = model.components_"
   ]
  },
  {
   "cell_type": "markdown",
   "metadata": {},
   "source": [
    "### Data matrix: $X$\n",
    "\n",
    "Data matrix $X^T$ has dimensions of (number of players)-by-(number of bins), so $X$ is of dimension $n=\\text{\\{number of players\\}}$ and $p=\\text{\\{number of bins\\}}$."
   ]
  },
  {
   "cell_type": "code",
   "execution_count": null,
   "metadata": {},
   "outputs": [],
   "source": [
    "p, n = X.shape\n",
    "\n",
    "print('Number of bins (p)   :', p)\n",
    "print('Number of players (n):', n)"
   ]
  },
  {
   "cell_type": "markdown",
   "metadata": {},
   "source": [
    "### Bases matrix: $W$\n",
    "\n",
    "Columns $W_i$ contain the bases. Since the function call asks for $r=10$ as number of bases, we get:"
   ]
  },
  {
   "cell_type": "code",
   "execution_count": null,
   "metadata": {},
   "outputs": [],
   "source": [
    "p_w, r = W.shape\n",
    "\n",
    "print('Number of bins (p) :', p_w)\n",
    "print('Number of bases (r):', r)"
   ]
  },
  {
   "cell_type": "markdown",
   "metadata": {},
   "source": [
    "It has the shape of (number of bins)-by-(10 components).\n",
    "\n",
    "### Coefficient matrix: H\n",
    "\n",
    "Each column of $H$ gives a coefficient for each of the bases vectors in $W$, and there are $n$ columns for each player."
   ]
  },
  {
   "cell_type": "code",
   "execution_count": null,
   "metadata": {},
   "outputs": [],
   "source": [
    "r_h, n_h = H.shape\n",
    "\n",
    "print('Number of bases (r)  :', r_h)\n",
    "print('Number of players (n):', n_h)"
   ]
  },
  {
   "cell_type": "markdown",
   "metadata": {},
   "source": [
    "### Visualizing the Bases $W$\n",
    "\n",
    "Each column vector of $W$ gives a spatial basis. Below we plot the bases in 2-d space."
   ]
  },
  {
   "cell_type": "code",
   "execution_count": null,
   "metadata": {},
   "outputs": [],
   "source": [
    "## h.plot_shotchart??"
   ]
  },
  {
   "cell_type": "code",
   "execution_count": null,
   "metadata": {},
   "outputs": [],
   "source": [
    "fig, ax = plt.subplots(5, 2, figsize=(20,40))\n",
    "\n",
    "for i, axi in enumerate(ax.flatten()):\n",
    "    h.plot_shotchart(W[:,i], xedges, yedges, ax=axi)\n",
    "    axi.set_title('NMF component ' + str(i))"
   ]
  },
  {
   "cell_type": "markdown",
   "metadata": {},
   "source": [
    "## Interpreting the players shooting styles\n",
    "\n",
    "Let's inspect the players shooting styles by looking at the coefficients."
   ]
  },
  {
   "cell_type": "code",
   "execution_count": null,
   "metadata": {},
   "outputs": [],
   "source": [
    "## Hd holds coefficients\n",
    "Hd = pd.DataFrame(H, columns=all_smooth.keys())\n",
    "star_coeff = Hd.loc[:,starids.index.values]\n",
    "star_coeff.columns = starids.DISPLAY_FIRST_LAST\n",
    "star_coeff.T"
   ]
  },
  {
   "cell_type": "markdown",
   "metadata": {},
   "source": [
    "Note that these players coefficients are not scaled to sum to 1."
   ]
  },
  {
   "cell_type": "code",
   "execution_count": null,
   "metadata": {},
   "outputs": [],
   "source": [
    "star_coeff.T.sum(1)"
   ]
  },
  {
   "cell_type": "markdown",
   "metadata": {},
   "source": [
    "So we scale each player to sum to 1."
   ]
  },
  {
   "cell_type": "code",
   "execution_count": null,
   "metadata": {},
   "outputs": [],
   "source": [
    "star_coeff /= star_coeff.sum(0)\n",
    "star_coeff.T"
   ]
  },
  {
   "cell_type": "code",
   "execution_count": null,
   "metadata": {},
   "outputs": [],
   "source": [
    "star_coeff.T.sum(1)"
   ]
  }
 ],
 "metadata": {
  "language_info": {
   "name": "python",
   "pygments_lexer": "ipython3"
  }
 },
 "nbformat": 4,
 "nbformat_minor": 2
}
