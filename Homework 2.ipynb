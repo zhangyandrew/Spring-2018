{
 "cells": [
  {
   "cell_type": "code",
   "execution_count": null,
   "metadata": {},
   "outputs": [],
   "source": [
    "import pandas as pd\n",
    "\n",
    "def get_nba_data(endpt, params, return_url=False):\n",
    "\n",
    "    ## endpt: https://github.com/seemethere/nba_py/wiki/stats.nba.com-Endpoint-Documentation\n",
    "    ## params: dictionary of parameters: i.e., {'LeagueID':'00'}\n",
    "    \n",
    "    from pandas import DataFrame\n",
    "    from urllib.parse import urlencode\n",
    "    import json\n",
    "    \n",
    "    useragent = \"\\\"Mozilla/5.0 (Macintosh; Intel Mac OS X 10_11_2) AppleWebKit/601.3.9 (KHTML, like Gecko) Version/9.0.2 Safari/601.3.9\\\"\"\n",
    "    dataurl = \"\\\"\" + \"http://stats.nba.com/stats/\" + endpt + \"?\" + urlencode(params) + \"\\\"\"\n",
    "    \n",
    "    # for debugging: just return the url\n",
    "    if return_url:\n",
    "        return(dataurl)\n",
    "    \n",
    "    jsonstr = !wget -q -O - --user-agent={useragent} {dataurl}\n",
    "    \n",
    "    data = json.loads(jsonstr[0])\n",
    "    \n",
    "    h = data['resultSets'][0]['headers']\n",
    "    d = data['resultSets'][0]['rowSet']\n",
    "    \n",
    "    return(DataFrame(d, columns=h))"
   ]
  },
  {
   "cell_type": "code",
   "execution_count": null,
   "metadata": {},
   "outputs": [],
   "source": [
    "## get all teams\n",
    "params = {'LeagueID':'00'}\n",
    "teams = get_nba_data('commonTeamYears', params)\n",
    "teams[teams.MAX_YEAR == '2017'] #take out teams no longer active\n",
    "teams.head()"
   ]
  },
  {
   "cell_type": "code",
   "execution_count": null,
   "metadata": {},
   "outputs": [],
   "source": [
    "## get all players\n",
    "params = {'LeagueID':'00', 'Season': '2016-17' , 'IsOnlyCurrentSeason': '0'}\n",
    "players = get_nba_data('commonallplayers', params)\n",
    "players = players[players.TO_YEAR == '2017'] #players that are currently active \n",
    "players = players[players.TEAM_ID != 0]\n",
    "players.tail()"
   ]
  },
  {
   "cell_type": "code",
   "execution_count": null,
   "metadata": {},
   "outputs": [],
   "source": [
    "#get all team names\n",
    "allteam_dd_text = players.TEAM_CITY+' '+players.TEAM_NAME\n",
    "allteam_dd = dict(zip(allteam_dd_text, players.TEAM_ID))\n",
    "allteam_dd"
   ]
  },
  {
   "cell_type": "code",
   "execution_count": null,
   "metadata": {},
   "outputs": [],
   "source": [
    "plyr_by_team_dd = dict()\n",
    "for t, p in players.groupby('TEAM_ID'):\n",
    "    plyr_by_team_dd[t] = dict(zip(p.DISPLAY_LAST_COMMA_FIRST, p.PERSON_ID))\n",
    "\n",
    "plyr_dd_text = players.DISPLAY_LAST_COMMA_FIRST\n",
    "plyr_dd_id = players.PERSON_ID\n",
    "plyr_dd = dict(zip(plyr_dd_text, plyr_dd_id))\n",
    "plyr_dd"
   ]
  },
  {
   "cell_type": "code",
   "execution_count": null,
   "metadata": {},
   "outputs": [],
   "source": [
    "params = {'LeagueID': '00',\n",
    "                'Season' : '2007-08',\n",
    "                'IsOnlyCurrentSeason' : '0'}\n",
    "player_year = get_nba_data('commonallplayers', params)\n",
    "player_year = player_year[player_year.TEAM_ID != 0]\n",
    "player_year[player_year.TEAM_ID == 1610612738]"
   ]
  },
  {
   "cell_type": "code",
   "execution_count": null,
   "metadata": {},
   "outputs": [],
   "source": [
    "from ipywidgets import interact, FloatSlider, Dropdown, Button\n",
    "import ipywidgets as widgets\n",
    "\n",
    "year = widgets.Text(\n",
    "        value='2016-17',\n",
    "        placeholder='Format: NNNN-NN (eg. 1995-96)',\n",
    "        description='Season Year',\n",
    "        disabled=False\n",
    "        )\n",
    "\n",
    "def update_year(change):\n",
    "    params = {'LeagueID': '00',\n",
    "                'Season' : year.value,\n",
    "                'IsOnlyCurrentSeason' : '0'}\n",
    "    player_year = get_nba_data('commonallplayers', params)\n",
    "    player_year = player_year[player_year.TEAM_ID != 0] #takes out all players not affiliated\n",
    "    #creates dictionary based on all players in this year\n",
    "    plyr_by_team_dd = dict()\n",
    "    for t, p in player_year.groupby('TEAM_ID'):\n",
    "        plyr_by_team_dd[t] = dict(zip(p.DISPLAY_LAST_COMMA_FIRST, p.PERSON_ID))\n",
    "    #organizes dictionary\n",
    "    plyr_dd_text = player_year.DISPLAY_LAST_COMMA_FIRST\n",
    "    plyr_dd_id = player_year.PERSON_ID\n",
    "    plyr_dd = dict(zip(plyr_dd_text, plyr_dd_id))\n",
    "    selected = \"Golden State Warriors\"\n",
    "    team_menu = Dropdown(options=allteam_dd, label = selected)\n",
    "    player_menu = Dropdown(options=plyr_by_team_dd[allteam_dd[selected]])\n",
    "    def update_team(change):\n",
    "        player_menu.options = plyr_by_team_dd[change['new']]\n",
    "    display(team_menu, player_menu, season_type, player_stats) #players in entered season year\n",
    "    team_menu.observe(update_team, names='value') #update players accordingly by choosing which team\n",
    "\n",
    "populate = Button(description = 'Populate Players', icon = 'check')\n",
    "populate.on_click(update_year)\n",
    "\n",
    "season_type = widgets.RadioButtons(\n",
    "                options=['Pre Season', 'Regular Season', 'Playoffs'],\n",
    "                description='Season Type',\n",
    "                disabled=False\n",
    "                )\n",
    "print (\"Playoffs 2017-18 not updated on NBA website\")\n",
    "display(year, populate)\n",
    "\n",
    "player_stats = Button(description = 'Player Stats', icon = 'check')\n",
    "#player_stats.on_click(calculate)\n",
    "\n",
    "def calculate(stats):\n",
    "    params = {'TeamID' : team_menu.value,\n",
    "              'Season' : year.value,\n",
    "              'SeasonType' : season_type.value}\n",
    "    game_log = get_nba_data('teamgamelog', params)    \n",
    "\n",
    "    "
   ]
  },
  {
   "cell_type": "code",
   "execution_count": null,
   "metadata": {},
   "outputs": [],
   "source": [
    "params_team1 = {'TeamID' : '1610612744',\n",
    "              'Season' : '2017-18',\n",
    "              'SeasonType' : 'Regular Season'}\n",
    "team_log = get_nba_data('teamgamelog', params_team1)\n",
    "team_log.columns.values"
   ]
  },
  {
   "cell_type": "code",
   "execution_count": null,
   "metadata": {},
   "outputs": [],
   "source": [
    "params_player = {'PlayerID' : '201939',\n",
    "              'Season' : '2017-18',\n",
    "              'SeasonType' : 'Regular Season'}\n",
    "player_log = get_nba_data('playergamelog', params_player)\n",
    "player_log.columns.values\n",
    "#fgm, fga, fg_pct, fg3m, fg3a, fg3_pct, ftm, fta, ft_pct, oreb, dreb, reb, ast, stl, blk, tov, pf, pts"
   ]
  },
  {
   "cell_type": "markdown",
   "metadata": {},
   "source": [
    "- FGM: Field Goals Made\n",
    "- FGA: Field Goals attempted\n",
    "- FG_PCT: Field Goals Percentage\n",
    "- FG3M: 3-pointers Made\n",
    "- FG3A: 3-pointers Attempted\n",
    "- FG3_PCT: 3-pointers Percentage\n",
    "- FTM: Free Throws Made\n",
    "- FTA: Free Throws Attempted\n",
    "- FT_PCT: Free Throws Percentage\n",
    "- OREB: Offensive Rebounds\n",
    "- DREB: Defensive Rebounds\n",
    "- REB: Rebounds\n",
    "- AST: Assists\n",
    "- STL: Steals\n",
    "- BLK: Blocks\n",
    "- TOV: Turnovers\n",
    "- PF: Personal Fouls\n",
    "- PTS: Points\n",
    "\n",
    "We will only be displaying FGM, OREB, DREB, AST, STL, BLK, TOV, PTS"
   ]
  },
  {
   "cell_type": "raw",
   "metadata": {},
   "source": []
  }
 ],
 "metadata": {
  "language_info": {
   "name": "python",
   "pygments_lexer": "ipython3"
  }
 },
 "nbformat": 4,
 "nbformat_minor": 2
}
