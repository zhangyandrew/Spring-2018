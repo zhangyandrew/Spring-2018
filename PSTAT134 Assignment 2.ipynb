{
 "cells": [
  {
   "cell_type": "markdown",
   "metadata": {},
   "source": [
    "# PSTAT134 Assignment 2\n",
    "## Creating an Interactive Dashboard for NBA Statistics\n",
    "### Andrew Zhang"
   ]
  },
  {
   "cell_type": "markdown",
   "metadata": {},
   "source": [
    "## Data Download\n",
    "In this step, we are downloading NBA data through the use of the get_nba_data function. For this assignment, we are interested in game data of Lebron James throughout the 2016-2017 regular season, so we are using the endpoint *playergamelog*."
   ]
  },
  {
   "cell_type": "code",
   "execution_count": null,
   "metadata": {},
   "outputs": [],
   "source": [
    "import pandas as pd\n",
    "\n",
    "def get_nba_data(endpt, params, return_url=False):\n",
    "\n",
    "    ## endpt: https://github.com/seemethere/nba_py/wiki/stats.nba.com-Endpoint-Documentation\n",
    "    ## params: dictionary of parameters: i.e., {'LeagueID':'00'}\n",
    "    \n",
    "    from pandas import DataFrame\n",
    "    from urllib.parse import urlencode\n",
    "    import json\n",
    "    \n",
    "    useragent = \"\\\"Mozilla/5.0 (Macintosh; Intel Mac OS X 10_11_2) AppleWebKit/601.3.9 (KHTML, like Gecko) Version/9.0.2 Safari/601.3.9\\\"\"\n",
    "    dataurl = \"\\\"\" + \"http://stats.nba.com/stats/\" + endpt + \"?\" + urlencode(params) + \"\\\"\"\n",
    "    \n",
    "    # for debugging: just return the url\n",
    "    if return_url:\n",
    "        return(dataurl)\n",
    "    \n",
    "    jsonstr = !wget -q -O - --user-agent={useragent} {dataurl}\n",
    "    \n",
    "    data = json.loads(jsonstr[0])\n",
    "    \n",
    "    h = data['resultSets'][0]['headers']\n",
    "    d = data['resultSets'][0]['rowSet']\n",
    "    \n",
    "    return(DataFrame(d, columns=h))"
   ]
  },
  {
   "cell_type": "code",
   "execution_count": null,
   "metadata": {},
   "outputs": [],
   "source": [
    "params = {'PlayerID':'2544',\n",
    "          'Season':'2016-17',\n",
    "          'SeasonType':'Regular Season'}\n",
    "\n",
    "gamedata = get_nba_data('playergamelog', params)\n",
    "gamedata.head()"
   ]
  },
  {
   "cell_type": "code",
   "execution_count": null,
   "metadata": {},
   "outputs": [],
   "source": [
    "# get all teams\n",
    "params = {'LeagueID':'00'}\n",
    "teams = get_nba_data('commonTeamYears', params)\n",
    "teams[teams.MAX_YEAR == '2017']\n",
    "teams.head()"
   ]
  },
  {
   "cell_type": "code",
   "execution_count": null,
   "metadata": {},
   "outputs": [],
   "source": [
    "# get all players\n",
    "params = {'LeagueID':'00', 'Season': '2016-17', 'IsOnlyCurrentSeason': '0'}\n",
    "players = get_nba_data('commonallplayers', params)\n",
    "players = players[players.TO_YEAR == '2017']\n",
    "players.head()"
   ]
  },
  {
   "cell_type": "markdown",
   "metadata": {},
   "source": [
    "## Developing Interactive Widgets\n",
    "Continuing from the data download portion, we are developing interactive widgets to adjust the parameters from the original data regarding performances throughout the 2016-2017 regular season. We will create widgets to update which year the data is covering, whether it is the regular season or playoffs, and which player is of interest to the user."
   ]
  },
  {
   "cell_type": "markdown",
   "metadata": {},
   "source": [
    "## Season Widget\n",
    "Statistics for LeBron James in the regular season in varying seasons."
   ]
  },
  {
   "cell_type": "code",
   "execution_count": null,
   "metadata": {},
   "outputs": [],
   "source": [
    "from ipywidgets import interact, Dropdown, Button\n",
    "import ipywidgets as widgets\n",
    "\n",
    "def update_season(season):\n",
    "    params_season = {'PlayerID':'2544',\n",
    "                     'Season':season,\n",
    "                     'SeasonType':'Regular Season'\n",
    "                    }\n",
    "    gamedata_update = get_nba_data('playergamelog', params_season)\n",
    "    display(gamedata_update.head())\n",
    "    \n",
    "drop_season = {'2012-13': '2012-13', '2013-14': '2013-14' , '2014-15': '2014-15', '2015-16': '2015-16'}\n",
    "\n",
    "interact(update_season, season=drop_season)"
   ]
  },
  {
   "cell_type": "markdown",
   "metadata": {},
   "source": [
    "## Season Type Widget\n",
    "Statistics for LeBron James in the 2016-17 season during different parts of the season."
   ]
  },
  {
   "cell_type": "code",
   "execution_count": null,
   "metadata": {},
   "outputs": [],
   "source": [
    "def update_type(season_type):\n",
    "    params_type = {'PlayerID':'2544',\n",
    "                   'Season':'2016-17',\n",
    "                   'SeasonType':season_type}\n",
    "    gamedata_update = get_nba_data('playergamelog', params_type)\n",
    "    display(gamedata_update.head())\n",
    "    \n",
    "drop_type = {'Pre': 'Pre Season', 'Regular': 'Regular Season', 'Post': 'Playoffs', 'All-Star': 'All Star' }\n",
    "\n",
    "interact(update_type, season_type=drop_type)"
   ]
  },
  {
   "cell_type": "markdown",
   "metadata": {},
   "source": [
    "### Player Widget\n",
    "Statistics in the regular season for the 2016-17 season for various players."
   ]
  },
  {
   "cell_type": "code",
   "execution_count": null,
   "metadata": {},
   "outputs": [],
   "source": [
    "def update_player(ID):\n",
    "    params_ID = {'PlayerID':ID,\n",
    "                 'Season':'2016-17',\n",
    "                 'SeasonType':'Regular Season'}\n",
    "    gamedata_update = get_nba_data('playergamelog', params_ID)\n",
    "    display(gamedata_update)\n",
    "    \n",
    "play_dd_text = players.DISPLAY_LAST_COMMA_FIRST\n",
    "play_ID = dict(zip(play_dd_text, players.PERSON_ID))\n",
    "\n",
    "interact(update_player, ID=play_ID)"
   ]
  },
  {
   "cell_type": "markdown",
   "metadata": {},
   "source": [
    "## Changing Widget States\n",
    "Combining interactive widgets for narrowing down players based on teams and using that to find game statistics for that particular player."
   ]
  },
  {
   "cell_type": "code",
   "execution_count": null,
   "metadata": {},
   "outputs": [],
   "source": [
    "plyr_by_team_dd = dict()\n",
    "\n",
    "for t, p in players.groupby('TEAM_ID'):\n",
    "    \n",
    "    plyr_by_team_dd[t] = dict(zip(p.DISPLAY_LAST_COMMA_FIRST, p.PERSON_ID))\n",
    "\n",
    "plyr_by_team_dd"
   ]
  },
  {
   "cell_type": "code",
   "execution_count": null,
   "metadata": {},
   "outputs": [],
   "source": [
    "#Build team dictionary\n",
    "team_dd_text = players.TEAM_CITY+' '+players.TEAM_NAME\n",
    "team_dd = dict(zip(team_dd_text, players.TEAM_ID))\n",
    "team_dd"
   ]
  },
  {
   "cell_type": "code",
   "execution_count": null,
   "metadata": {},
   "outputs": [],
   "source": [
    "selected = \"Cleveland Cavaliers\"\n",
    "\n",
    "season = {'2016-2017': '2016-17'}\n",
    "\n",
    "season_menu = Dropdown(options=season)\n",
    "team_menu = Dropdown(options=team_dd, label = selected)\n",
    "play_menu = Dropdown(options=play_ID, label='James, LeBron')\n",
    "type_menu = Dropdown(options=drop_type)\n",
    "\n",
    "fetch_button = Button(description=\"Get Stats\")\n",
    "\n",
    "display(season_menu, type_menu, team_menu, play_menu, fetch_button)\n",
    "\n",
    "def update_team(change):\n",
    "    play_menu.options = plyr_by_team_dd[change['new']]\n",
    "\n",
    "def update_play(change):\n",
    "    print(play_menu.label)\n",
    "    params_ID = {'PlayerID':play_menu.value,\n",
    "                 'Season':season_menu.value,\n",
    "                 'SeasonType':type_menu.value}\n",
    "    gamedata_update = get_nba_data('playergamelog', params_ID)\n",
    "    if gamedata_update.empty == True:\n",
    "        print('Not Applicable to Player')\n",
    "    else:\n",
    "        display(gamedata_update)\n",
    "    \n",
    "team_menu.observe(update_team, names='value')\n",
    "\n",
    "fetch_button.on_click(update_play)\n"
   ]
  },
  {
   "cell_type": "markdown",
   "metadata": {},
   "source": [
    "## Data Transformations and Visualizations\n",
    "Comparing points, rebounds, assists, and turnovers in both loses/wins and home/away games."
   ]
  },
  {
   "cell_type": "markdown",
   "metadata": {},
   "source": [
    "### Wins vs. Loses\n",
    "Comparing LeBron James's productivity in wins and loses."
   ]
  },
  {
   "cell_type": "code",
   "execution_count": null,
   "metadata": {},
   "outputs": [],
   "source": [
    "for r, d in gamedata.groupby('WL'):\n",
    "    if r == 'L':\n",
    "        loses = d\n",
    "    else:\n",
    "        wins = d"
   ]
  },
  {
   "cell_type": "code",
   "execution_count": null,
   "metadata": {},
   "outputs": [],
   "source": [
    "loses.head()"
   ]
  },
  {
   "cell_type": "code",
   "execution_count": null,
   "metadata": {},
   "outputs": [],
   "source": [
    "gamedata.groupby('WL').mean()"
   ]
  },
  {
   "cell_type": "code",
   "execution_count": null,
   "metadata": {},
   "outputs": [],
   "source": [
    "%matplotlib inline\n",
    "import matplotlib.pyplot as plt\n",
    "\n",
    "a = range(len(loses))\n",
    "b = loses.PTS\n",
    "c = loses.REB\n",
    "d = loses.AST\n",
    "e = loses.TOV\n",
    "\n",
    "f = range(len(wins))\n",
    "g = wins.PTS\n",
    "h = wins.REB\n",
    "i = wins.AST\n",
    "j = wins.TOV\n",
    "\n",
    "plt.scatter(a, b)\n",
    "plt.scatter(a, c)\n",
    "plt.scatter(a, d)\n",
    "plt.scatter(a, e)\n",
    "plt.xlabel('Games')\n",
    "plt.ylabel('Statistics')\n",
    "plt.legend()\n",
    "plt.title('LeBron James in Wins')\n",
    "plt.show()\n",
    "\n",
    "plt.scatter(f, g)\n",
    "plt.scatter(f, h)\n",
    "plt.scatter(f, i)\n",
    "plt.scatter(f, j)\n",
    "plt.xlabel('Games')\n",
    "plt.ylabel('Statistics')\n",
    "plt.legend()\n",
    "plt.title('LeBron James in Loses')\n",
    "plt.show()"
   ]
  },
  {
   "cell_type": "markdown",
   "metadata": {},
   "source": [
    "In terms of averages, we can see that James performs significantly better when he plays at home, as indicated by his plus minus statistic. If we compare his in-game statistics such as points, rebounds, assists, etc., there isn't a significant difference.  Even in the scatterplot, it is difficult to discern the differences between his performances in wins and losses, however, the plus minus statistic indicates overall impact and performance during games, thus allowing us to confirm a better performance at home than on the road."
   ]
  },
  {
   "cell_type": "markdown",
   "metadata": {},
   "source": [
    "### Home vs. Away\n",
    "Comparing LeBron James's productivity in home and away games to Jae Crowder's productivity in home and away games."
   ]
  },
  {
   "cell_type": "code",
   "execution_count": null,
   "metadata": {},
   "outputs": [],
   "source": [
    "gamedata['location'] = 0\n",
    "\n",
    "for i in range(len(gamedata.MATCHUP)):\n",
    "    if '@' in gamedata.MATCHUP[i]:\n",
    "        gamedata['location'][i] = 'away'\n",
    "    else:\n",
    "        gamedata['location'][i] = 'home'"
   ]
  },
  {
   "cell_type": "code",
   "execution_count": null,
   "metadata": {},
   "outputs": [],
   "source": [
    "for i, s in gamedata.groupby('location'):\n",
    "    if i == 'away':\n",
    "        away = s\n",
    "    else:\n",
    "        home = s"
   ]
  },
  {
   "cell_type": "code",
   "execution_count": null,
   "metadata": {},
   "outputs": [],
   "source": [
    "a = range(len(away))\n",
    "b = away.PTS\n",
    "c = away.REB\n",
    "d = away.AST\n",
    "e = away.TOV\n",
    "\n",
    "f = range(len(home))\n",
    "g = home.PTS\n",
    "h = home.REB\n",
    "i = home.AST\n",
    "j = home.TOV\n",
    "\n",
    "plt.scatter(a, b)\n",
    "plt.scatter(a, c)\n",
    "plt.scatter(a, d)\n",
    "plt.scatter(a, e)\n",
    "plt.xlabel('Games')\n",
    "plt.ylabel('Statistics')\n",
    "plt.legend()\n",
    "plt.title('LeBron James Away Games')\n",
    "plt.show()\n",
    "\n",
    "plt.scatter(f, g)\n",
    "plt.scatter(f, h)\n",
    "plt.scatter(f, i)\n",
    "plt.scatter(f, j)\n",
    "plt.xlabel('Games')\n",
    "plt.ylabel('Statistics')\n",
    "plt.legend()\n",
    "plt.title('LeBron James Home Games')\n",
    "plt.show()"
   ]
  },
  {
   "cell_type": "code",
   "execution_count": null,
   "metadata": {},
   "outputs": [],
   "source": [
    "params_jc = {'PlayerID':'203109',\n",
    "          'Season':'2016-17',\n",
    "          'SeasonType':'Regular Season'}\n",
    "\n",
    "gamedata_jc = get_nba_data('playergamelog', params_jc)\n",
    "gamedata_jc.head()"
   ]
  },
  {
   "cell_type": "code",
   "execution_count": null,
   "metadata": {},
   "outputs": [],
   "source": [
    "gamedata_jc['location'] = 0\n",
    "\n",
    "for i in range(len(gamedata_jc.MATCHUP)):\n",
    "    if '@' in gamedata_jc.MATCHUP[i]:\n",
    "        gamedata_jc['location'][i] = 'away'\n",
    "    else:\n",
    "        gamedata_jc['location'][i] = 'home'"
   ]
  },
  {
   "cell_type": "code",
   "execution_count": null,
   "metadata": {},
   "outputs": [],
   "source": [
    "for i, s in gamedata_jc.groupby('location'):\n",
    "    if i == 'away':\n",
    "        away_jc = s\n",
    "    else:\n",
    "        home_jc = s"
   ]
  },
  {
   "cell_type": "code",
   "execution_count": null,
   "metadata": {},
   "outputs": [],
   "source": [
    "a_jc = range(len(away_jc))\n",
    "b_jc = away_jc.PTS\n",
    "c_jc = away_jc.REB\n",
    "d_jc = away_jc.AST\n",
    "e_jc = away_jc.TOV\n",
    "\n",
    "f_jc = range(len(home_jc))\n",
    "g_jc = home_jc.PTS\n",
    "h_jc = home_jc.REB\n",
    "i_jc = home_jc.AST\n",
    "j_jc = home_jc.TOV\n",
    "\n",
    "plt.scatter(a_jc, b_jc)\n",
    "plt.scatter(a_jc, c_jc)\n",
    "plt.scatter(a_jc, d_jc)\n",
    "plt.scatter(a_jc, e_jc)\n",
    "plt.xlabel('Games')\n",
    "plt.ylabel('Statistics')\n",
    "plt.legend()\n",
    "plt.title('Jae Crowder Away Games')\n",
    "plt.show()\n",
    "\n",
    "plt.scatter(f_jc, g_jc)\n",
    "plt.scatter(f_jc, h_jc)\n",
    "plt.scatter(f_jc, i_jc)\n",
    "plt.scatter(f_jc, j_jc)\n",
    "plt.xlabel('Games')\n",
    "plt.ylabel('Statistics')\n",
    "plt.legend()\n",
    "plt.title('Jae Crowder Home Games')\n",
    "plt.show()"
   ]
  },
  {
   "cell_type": "code",
   "execution_count": null,
   "metadata": {},
   "outputs": [],
   "source": [
    "gamedata.groupby('location').mean()"
   ]
  },
  {
   "cell_type": "code",
   "execution_count": null,
   "metadata": {},
   "outputs": [],
   "source": [
    "gamedata_jc.groupby('location').mean()"
   ]
  },
  {
   "cell_type": "markdown",
   "metadata": {},
   "source": [
    "If we look at James's data, it is very difficult to discern any significant differences in his home and away game statistics. This can simply be attributed to how good of a player he is as he is able to perform whenever he is needed. Again, his game statistics are relatively the same and his plus minus indicate he is relatively productive at home or on the road. For this reason, it is important to look at another arbitrary player to see if James's numbers simply indicate his skill or if it is attributed to another factor. We have selected Jae Crowder, another \"average\" player who is known more for his defensive prowess and grittiness. Upon analysis of his numbers, we can see that his statistics are indicative of a great player. Although James's numbers are better than Crowders, it is possible that being on a top tier team, which both the Cavaliers and Celtics were in 2016-17, could play a role in the players having such high statistics as they are surrounded by better teammates. "
   ]
  },
  {
   "cell_type": "code",
   "execution_count": null,
   "metadata": {},
   "outputs": [],
   "source": []
  }
 ],
 "metadata": {
  "language_info": {
   "name": "python",
   "pygments_lexer": "ipython3"
  }
 },
 "nbformat": 4,
 "nbformat_minor": 2
}
