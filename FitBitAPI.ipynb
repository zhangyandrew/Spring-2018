{
 "cells": [
  {
   "cell_type": "markdown",
   "metadata": {},
   "source": [
    "# Fitbit access on Jupyterhub\n",
    "\n",
    "Fitbit API authenticates your application by opening a browser window that connects to Fitbit: https://dev.fitbit.com/build/reference/web-api/basics/. However, because Jupyterhub is running on a remote server, opening a browser window (on the remote server) is not an option for us. We can use a somewhat manual method to get around this limitation.\n",
    "\n",
    "Below is the code for downloading your Fitbit data using course Jupyterhub. Refer to [this page](https://dev.fitbit.com/build/reference/web-api/basics/) for details. You need the following:\n",
    "\n",
    "* Registered application: https://dev.fitbit.com/apps\n",
    "* Client ID and Client Secret\n",
    "* Callback URL (on dev.fitbit.com) has to match redirect_uri (for OAuth2Server below)\n",
    "* OAuth 2.0 Application Type must be \"Personal\" (otherwise intraday data is not available)\n",
    "\n",
    "![](images/EditApplication-manage.png)\n",
    "![](images/EditApplication-personal.png)"
   ]
  },
  {
   "cell_type": "code",
   "execution_count": null,
   "metadata": {},
   "outputs": [],
   "source": [
    "import fitbit  # clone https://github.com/orcasgit/python-fitbit\n",
    "\n",
    "class OAuth2Server:\n",
    "    def __init__(self, client_id, client_secret,\n",
    "                 redirect_uri='http://127.0.0.1:8080/'):\n",
    "        \n",
    "        from fitbit import Fitbit\n",
    "        \n",
    "        \"\"\" Initialize the FitbitOauth2Client \"\"\"\n",
    "        self.success_html = \"\"\"\n",
    "            <h1>You are now authorized to access the Fitbit API!</h1>\n",
    "            <br/><h3>You can close this window</h3>\"\"\"\n",
    "        self.failure_html = \"\"\"\n",
    "            <h1>ERROR: %s</h1><br/><h3>You can close this window</h3>%s\"\"\"\n",
    "\n",
    "        self.fitbit = Fitbit(\n",
    "            client_id,\n",
    "            client_secret,\n",
    "            redirect_uri=redirect_uri,\n",
    "            timeout=10,\n",
    "        )\n",
    "\n",
    "CLIENT_ID = 'YOUR_CLIENT_ID'\n",
    "CLIENT_SECRET = 'YOUR_CLIENT_SECRET'"
   ]
  },
  {
   "cell_type": "code",
   "execution_count": null,
   "metadata": {},
   "outputs": [],
   "source": [
    "# Instantiate OAuth server\n",
    "server = OAuth2Server(CLIENT_ID, CLIENT_SECRET)\n",
    "\n",
    "# Request to be authorized via OAuth\n",
    "url,_ = server.fitbit.client.authorize_token_url()\n",
    "print(\"1. Open this URL and you will be forwarded to another.\\n\" + \n",
    "      url + \"\\n\\n2. Copy the destination URL and paste below\")"
   ]
  },
  {
   "cell_type": "code",
   "execution_count": null,
   "metadata": {},
   "outputs": [],
   "source": [
    "def getAccessToken(server, url=None):\n",
    "\n",
    "    from urllib.parse import urlparse, parse_qs\n",
    "    \n",
    "    parsed = urlparse(url)\n",
    "    code = parse_qs(parsed.query)['code'][0]\n",
    "    out = server.fitbit.client.fetch_access_token(code)\n",
    "    \n",
    "    return(out)\n",
    "\n",
    "destinationURL = 'http://127.0.0.1:8080/?code=9d5e143b4d8c0fe8925f718fb4ca4d7f45048633&state=xAdN79wmz1WBUzuZ0MDSLRONY15lLG#_=_'\n",
    "credentials = getAccessToken(server, destinationURL)"
   ]
  },
  {
   "cell_type": "code",
   "execution_count": null,
   "metadata": {},
   "outputs": [],
   "source": [
    "# Instantiate connection\n",
    "auth2_client = fitbit.Fitbit(\n",
    "    CLIENT_ID,\n",
    "    CLIENT_SECRET,\n",
    "    oauth2=True,\n",
    "    access_token=credentials['access_token'],\n",
    "    refresh_token=credentials['refresh_token'],\n",
    ")"
   ]
  },
  {
   "cell_type": "code",
   "execution_count": null,
   "metadata": {},
   "outputs": [],
   "source": [
    "def pull_date_activity(connection, date_string, endpoint='activities/steps'):\n",
    "    \"\"\"\n",
    "    Pull activity from an endpoint for a given day\n",
    "    \n",
    "    Inputs:\n",
    "        connection: Connection to your Fitbit app\n",
    "        endpoint: API endpoint you want to pull data from\n",
    "        date_string: Date string of the form \"yyyy-mm-dd\"\n",
    "    Returns:\n",
    "        Pandas DataFrame of values for requested activity for the requested date\n",
    "    \"\"\"\n",
    "    import pandas as pd\n",
    "    \n",
    "    result_set = connection.intraday_time_series(\n",
    "        endpoint,\n",
    "        base_date=date_string\n",
    "    )\n",
    "    \n",
    "    act_type = endpoint.split('/')[1]\n",
    "    get_key = f'activities-{act_type}-intraday'\n",
    "    df = pd.DataFrame.from_dict(result_set[get_key]['dataset'])\n",
    "    df['timestamp'] = date_string + ' ' + df['time']\n",
    "    df['timestamp'] = pd.to_datetime(df.timestamp)\n",
    "    df.drop(['time'], axis=1, inplace=True)\n",
    "    df.set_index('timestamp', inplace=True)\n",
    "    df.rename(columns={'value': act_type}, inplace=True)\n",
    "    \n",
    "    return df\n",
    "    "
   ]
  },
  {
   "cell_type": "code",
   "execution_count": null,
   "metadata": {},
   "outputs": [],
   "source": [
    "test_date = pull_date_activity(\n",
    "    auth2_client,\n",
    "    '2018-05-25'\n",
    ")\n",
    "\n",
    "test_date.rolling(window=15, win_type='triang').mean().plot(figsize=(20, 6), title=\"2018-05-25\")"
   ]
  }
 ],
 "metadata": {
  "language_info": {
   "name": "python",
   "pygments_lexer": "ipython3"
  }
 },
 "nbformat": 4,
 "nbformat_minor": 2
}
